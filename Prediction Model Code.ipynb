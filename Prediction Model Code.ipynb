{
 "cells": [
  {
   "cell_type": "markdown",
   "id": "e1c67b2a",
   "metadata": {
    "hide_input": true
   },
   "source": [
    "# Credit Card Recommendation "
   ]
  },
  {
   "cell_type": "markdown",
   "id": "8255ebc7",
   "metadata": {
    "toc": true
   },
   "source": [
    "<h1>Table of Contents<span class=\"tocSkip\"></span></h1>\n",
    "<div class=\"toc\"><ul class=\"toc-item\"><li><span><a href=\"#Problem-Statement:\" data-toc-modified-id=\"Problem-Statement:-1\"><span class=\"toc-item-num\">1&nbsp;&nbsp;</span>Problem Statement:</a></span></li><li><span><a href=\"#Dataset-Description\" data-toc-modified-id=\"Dataset-Description-2\"><span class=\"toc-item-num\">2&nbsp;&nbsp;</span>Dataset Description</a></span></li><li><span><a href=\"#Import-Required-Libraries\" data-toc-modified-id=\"Import-Required-Libraries-3\"><span class=\"toc-item-num\">3&nbsp;&nbsp;</span>Import Required Libraries</a></span></li><li><span><a href=\"#Importing-the-Dataset\" data-toc-modified-id=\"Importing-the-Dataset-4\"><span class=\"toc-item-num\">4&nbsp;&nbsp;</span>Importing the Dataset</a></span><ul class=\"toc-item\"><li><span><a href=\"#Combine-Data\" data-toc-modified-id=\"Combine-Data-4.1\"><span class=\"toc-item-num\">4.1&nbsp;&nbsp;</span>Combine Data</a></span></li></ul></li><li><span><a href=\"#Understanding-Data\" data-toc-modified-id=\"Understanding-Data-5\"><span class=\"toc-item-num\">5&nbsp;&nbsp;</span>Understanding Data</a></span><ul class=\"toc-item\"><li><span><a href=\"#Checking-Dataset-is-Balanced-or-Imbalanced\" data-toc-modified-id=\"Checking-Dataset-is-Balanced-or-Imbalanced-5.1\"><span class=\"toc-item-num\">5.1&nbsp;&nbsp;</span>Checking Dataset is Balanced or Imbalanced</a></span></li><li><span><a href=\"#Checking-categorical-and-numerical-columns\" data-toc-modified-id=\"Checking-categorical-and-numerical-columns-5.2\"><span class=\"toc-item-num\">5.2&nbsp;&nbsp;</span>Checking categorical and numerical columns</a></span></li><li><span><a href=\"#Checking-for-null-value\" data-toc-modified-id=\"Checking-for-null-value-5.3\"><span class=\"toc-item-num\">5.3&nbsp;&nbsp;</span>Checking for null value</a></span></li><li><span><a href=\"#Conclusion\" data-toc-modified-id=\"Conclusion-5.4\"><span class=\"toc-item-num\">5.4&nbsp;&nbsp;</span>Conclusion</a></span></li></ul></li><li><span><a href=\"#Exploratory-Data-Analysis\" data-toc-modified-id=\"Exploratory-Data-Analysis-6\"><span class=\"toc-item-num\">6&nbsp;&nbsp;</span>Exploratory Data Analysis</a></span><ul class=\"toc-item\"><li><span><a href=\"#Embedding-Power-BI-Report\" data-toc-modified-id=\"Embedding-Power-BI-Report-6.1\"><span class=\"toc-item-num\">6.1&nbsp;&nbsp;</span>Embedding Power BI Report</a></span></li></ul></li><li><span><a href=\"#Data-Pre-Processing\" data-toc-modified-id=\"Data-Pre-Processing-7\"><span class=\"toc-item-num\">7&nbsp;&nbsp;</span>Data Pre-Processing</a></span><ul class=\"toc-item\"><li><span><a href=\"#Check-For-Duplicates\" data-toc-modified-id=\"Check-For-Duplicates-7.1\"><span class=\"toc-item-num\">7.1&nbsp;&nbsp;</span>Check For Duplicates</a></span></li><li><span><a href=\"#Handle-the-missing-value\" data-toc-modified-id=\"Handle-the-missing-value-7.2\"><span class=\"toc-item-num\">7.2&nbsp;&nbsp;</span>Handle the missing value</a></span></li><li><span><a href=\"#Separate-dataset-as-earlier-on-basis-of-source-column\" data-toc-modified-id=\"Separate-dataset-as-earlier-on-basis-of-source-column-7.3\"><span class=\"toc-item-num\">7.3&nbsp;&nbsp;</span>Separate dataset as earlier on basis of source column</a></span></li><li><span><a href=\"#Handle-unnecessary-column\" data-toc-modified-id=\"Handle-unnecessary-column-7.4\"><span class=\"toc-item-num\">7.4&nbsp;&nbsp;</span>Handle unnecessary column</a></span></li><li><span><a href=\"#Handle-Nominal-Categorical-Variables\" data-toc-modified-id=\"Handle-Nominal-Categorical-Variables-7.5\"><span class=\"toc-item-num\">7.5&nbsp;&nbsp;</span>Handle Nominal Categorical Variables</a></span></li><li><span><a href=\"#Conclusion\" data-toc-modified-id=\"Conclusion-7.6\"><span class=\"toc-item-num\">7.6&nbsp;&nbsp;</span>Conclusion</a></span></li></ul></li><li><span><a href=\"#Feature-Selection\" data-toc-modified-id=\"Feature-Selection-8\"><span class=\"toc-item-num\">8&nbsp;&nbsp;</span>Feature Selection</a></span><ul class=\"toc-item\"><li><span><a href=\"#Conclusion\" data-toc-modified-id=\"Conclusion-8.1\"><span class=\"toc-item-num\">8.1&nbsp;&nbsp;</span>Conclusion</a></span></li></ul></li><li><span><a href=\"#Modelling\" data-toc-modified-id=\"Modelling-9\"><span class=\"toc-item-num\">9&nbsp;&nbsp;</span>Modelling</a></span></li><li><span><a href=\"#Predict-Model\" data-toc-modified-id=\"Predict-Model-10\"><span class=\"toc-item-num\">10&nbsp;&nbsp;</span>Predict Model</a></span></li></ul></div>"
   ]
  },
  {
   "cell_type": "markdown",
   "id": "e6f2e501",
   "metadata": {},
   "source": [
    "##  Problem Statement:\n",
    "Based on the given dataset predict whether customer will take a credit card or not "
   ]
  },
  {
   "cell_type": "markdown",
   "id": "6e990c70",
   "metadata": {},
   "source": [
    "## Dataset Description\n",
    "Dataset is provided by Analytics Vidhya as part of May-21 Hackathon.\n",
    "\n",
    "Link to found data and data dictionary: https://datahack.analyticsvidhya.com/contest/job-a-thon-2/?utm_source=datahack&utm_medium=Navbar&utm_campaign=Jobathon#ProblemStatement\n",
    "\n",
    "This is classification problem with two outputs\n",
    "* 0 : Customer is not interested\n",
    "* 1 : Customer is interested"
   ]
  },
  {
   "cell_type": "markdown",
   "id": "5f31b783",
   "metadata": {},
   "source": [
    "## Import Required Libraries"
   ]
  },
  {
   "cell_type": "code",
   "execution_count": 186,
   "id": "63a56c20",
   "metadata": {},
   "outputs": [],
   "source": [
    "# importing all the required library\n",
    "\n",
    "import pandas as pd\n",
    "import numpy as np\n",
    "import nltk\n",
    "import matplotlib.pyplot as plt\n",
    "import seaborn as sns\n",
    "\n",
    "from sklearn import preprocessing\n",
    "from sklearn.preprocessing import LabelEncoder\n",
    "from sklearn.feature_selection import VarianceThreshold\n",
    "from sklearn.model_selection import KFold, StratifiedKFold\n",
    "from sklearn.metrics import roc_auc_score\n",
    "\n",
    "from lightgbm import LGBMClassifier\n",
    "from IPython.display import IFrame"
   ]
  },
  {
   "cell_type": "markdown",
   "id": "6fcc9568",
   "metadata": {},
   "source": [
    "## Importing the Dataset\n",
    "The dataset is available in .csv file."
   ]
  },
  {
   "cell_type": "code",
   "execution_count": 187,
   "id": "a1d4520c",
   "metadata": {},
   "outputs": [
    {
     "name": "stdout",
     "output_type": "stream",
     "text": [
      "Dataset imported successfully\n"
     ]
    }
   ],
   "source": [
    "# importing csv dataset\n",
    "\n",
    "train_data = pd.read_csv(\"train_data.csv\")\n",
    "test_data = pd.read_csv(\"test_data.csv\")\n",
    "print(\"Dataset imported successfully\")"
   ]
  },
  {
   "cell_type": "markdown",
   "id": "7bfc7bf9",
   "metadata": {},
   "source": [
    "### Combine Data"
   ]
  },
  {
   "cell_type": "code",
   "execution_count": 188,
   "id": "b1654558",
   "metadata": {},
   "outputs": [
    {
     "name": "stdout",
     "output_type": "stream",
     "text": [
      "Test train data merge successfully\n"
     ]
    }
   ],
   "source": [
    "# adding one column to identify train and test data\n",
    "\n",
    "train_data['source'] = 'train'\n",
    "test_data['source'] = 'test'\n",
    "\n",
    "# combining data before performing Data Preprocessing , will separate into train and test as earlier before modelling\n",
    "\n",
    "data = pd.concat([train_data,test_data],ignore_index=True)\n",
    "print(\"Test train data merge successfully\")"
   ]
  },
  {
   "cell_type": "markdown",
   "id": "1d0bfb85",
   "metadata": {},
   "source": [
    "## Understanding Data"
   ]
  },
  {
   "cell_type": "code",
   "execution_count": 189,
   "id": "1358ff74",
   "metadata": {},
   "outputs": [
    {
     "data": {
      "text/html": [
       "<div>\n",
       "<style scoped>\n",
       "    .dataframe tbody tr th:only-of-type {\n",
       "        vertical-align: middle;\n",
       "    }\n",
       "\n",
       "    .dataframe tbody tr th {\n",
       "        vertical-align: top;\n",
       "    }\n",
       "\n",
       "    .dataframe thead th {\n",
       "        text-align: right;\n",
       "    }\n",
       "</style>\n",
       "<table border=\"1\" class=\"dataframe\">\n",
       "  <thead>\n",
       "    <tr style=\"text-align: right;\">\n",
       "      <th></th>\n",
       "      <th>ID</th>\n",
       "      <th>Gender</th>\n",
       "      <th>Age</th>\n",
       "      <th>Region_Code</th>\n",
       "      <th>Occupation</th>\n",
       "      <th>Channel_Code</th>\n",
       "      <th>Vintage</th>\n",
       "      <th>Credit_Product</th>\n",
       "      <th>Avg_Account_Balance</th>\n",
       "      <th>Is_Active</th>\n",
       "      <th>Is_Lead</th>\n",
       "      <th>source</th>\n",
       "    </tr>\n",
       "  </thead>\n",
       "  <tbody>\n",
       "    <tr>\n",
       "      <th>0</th>\n",
       "      <td>NNVBBKZB</td>\n",
       "      <td>Female</td>\n",
       "      <td>73</td>\n",
       "      <td>RG268</td>\n",
       "      <td>Other</td>\n",
       "      <td>X3</td>\n",
       "      <td>43</td>\n",
       "      <td>No</td>\n",
       "      <td>1045696</td>\n",
       "      <td>No</td>\n",
       "      <td>0.0</td>\n",
       "      <td>train</td>\n",
       "    </tr>\n",
       "    <tr>\n",
       "      <th>1</th>\n",
       "      <td>IDD62UNG</td>\n",
       "      <td>Female</td>\n",
       "      <td>30</td>\n",
       "      <td>RG277</td>\n",
       "      <td>Salaried</td>\n",
       "      <td>X1</td>\n",
       "      <td>32</td>\n",
       "      <td>No</td>\n",
       "      <td>581988</td>\n",
       "      <td>No</td>\n",
       "      <td>0.0</td>\n",
       "      <td>train</td>\n",
       "    </tr>\n",
       "    <tr>\n",
       "      <th>2</th>\n",
       "      <td>HD3DSEMC</td>\n",
       "      <td>Female</td>\n",
       "      <td>56</td>\n",
       "      <td>RG268</td>\n",
       "      <td>Self_Employed</td>\n",
       "      <td>X3</td>\n",
       "      <td>26</td>\n",
       "      <td>No</td>\n",
       "      <td>1484315</td>\n",
       "      <td>Yes</td>\n",
       "      <td>0.0</td>\n",
       "      <td>train</td>\n",
       "    </tr>\n",
       "    <tr>\n",
       "      <th>3</th>\n",
       "      <td>BF3NC7KV</td>\n",
       "      <td>Male</td>\n",
       "      <td>34</td>\n",
       "      <td>RG270</td>\n",
       "      <td>Salaried</td>\n",
       "      <td>X1</td>\n",
       "      <td>19</td>\n",
       "      <td>No</td>\n",
       "      <td>470454</td>\n",
       "      <td>No</td>\n",
       "      <td>0.0</td>\n",
       "      <td>train</td>\n",
       "    </tr>\n",
       "    <tr>\n",
       "      <th>4</th>\n",
       "      <td>TEASRWXV</td>\n",
       "      <td>Female</td>\n",
       "      <td>30</td>\n",
       "      <td>RG282</td>\n",
       "      <td>Salaried</td>\n",
       "      <td>X1</td>\n",
       "      <td>33</td>\n",
       "      <td>No</td>\n",
       "      <td>886787</td>\n",
       "      <td>No</td>\n",
       "      <td>0.0</td>\n",
       "      <td>train</td>\n",
       "    </tr>\n",
       "  </tbody>\n",
       "</table>\n",
       "</div>"
      ],
      "text/plain": [
       "         ID  Gender  Age Region_Code     Occupation Channel_Code  Vintage  \\\n",
       "0  NNVBBKZB  Female   73       RG268          Other           X3       43   \n",
       "1  IDD62UNG  Female   30       RG277       Salaried           X1       32   \n",
       "2  HD3DSEMC  Female   56       RG268  Self_Employed           X3       26   \n",
       "3  BF3NC7KV    Male   34       RG270       Salaried           X1       19   \n",
       "4  TEASRWXV  Female   30       RG282       Salaried           X1       33   \n",
       "\n",
       "  Credit_Product  Avg_Account_Balance Is_Active  Is_Lead source  \n",
       "0             No              1045696        No      0.0  train  \n",
       "1             No               581988        No      0.0  train  \n",
       "2             No              1484315       Yes      0.0  train  \n",
       "3             No               470454        No      0.0  train  \n",
       "4             No               886787        No      0.0  train  "
      ]
     },
     "execution_count": 189,
     "metadata": {},
     "output_type": "execute_result"
    }
   ],
   "source": [
    "# printing first 5 rows of data to check the type of entries\n",
    "\n",
    "data.head()"
   ]
  },
  {
   "cell_type": "code",
   "execution_count": 190,
   "id": "18056328",
   "metadata": {},
   "outputs": [
    {
     "name": "stdout",
     "output_type": "stream",
     "text": [
      "<class 'pandas.core.frame.DataFrame'>\n",
      "RangeIndex: 351037 entries, 0 to 351036\n",
      "Data columns (total 12 columns):\n",
      " #   Column               Non-Null Count   Dtype  \n",
      "---  ------               --------------   -----  \n",
      " 0   ID                   351037 non-null  object \n",
      " 1   Gender               351037 non-null  object \n",
      " 2   Age                  351037 non-null  int64  \n",
      " 3   Region_Code          351037 non-null  object \n",
      " 4   Occupation           351037 non-null  object \n",
      " 5   Channel_Code         351037 non-null  object \n",
      " 6   Vintage              351037 non-null  int64  \n",
      " 7   Credit_Product       309190 non-null  object \n",
      " 8   Avg_Account_Balance  351037 non-null  int64  \n",
      " 9   Is_Active            351037 non-null  object \n",
      " 10  Is_Lead              245725 non-null  float64\n",
      " 11  source               351037 non-null  object \n",
      "dtypes: float64(1), int64(3), object(8)\n",
      "memory usage: 32.1+ MB\n"
     ]
    }
   ],
   "source": [
    "# getting the information about data to check data types of column , count of each columns\n",
    "\n",
    "data.info()"
   ]
  },
  {
   "cell_type": "code",
   "execution_count": 191,
   "id": "0ce7d621",
   "metadata": {},
   "outputs": [
    {
     "data": {
      "text/plain": [
       "Index(['ID', 'Gender', 'Age', 'Region_Code', 'Occupation', 'Channel_Code',\n",
       "       'Vintage', 'Credit_Product', 'Avg_Account_Balance', 'Is_Active',\n",
       "       'Is_Lead', 'source'],\n",
       "      dtype='object')"
      ]
     },
     "execution_count": 191,
     "metadata": {},
     "output_type": "execute_result"
    }
   ],
   "source": [
    "# storing name of columns into a variable\n",
    "\n",
    "name_of_column = data.columns\n",
    "name_of_column"
   ]
  },
  {
   "cell_type": "markdown",
   "id": "77abc793",
   "metadata": {},
   "source": [
    "<strong><em> Observation </em></strong>\n",
    "\n",
    "There are total 11 columns. Out of which 4 are numerical column , rest are need to covert into categorical columns\n",
    "\n",
    "ID column is not going to be consider in modelling as per Analytics Vidhya Guidlines. We will drop that column after data pre-processing.\n",
    "\n",
    "Will delete source column after dividing the dataset\n",
    "\n",
    "So we need to handle those 6 categorical columns before modelling"
   ]
  },
  {
   "cell_type": "markdown",
   "id": "4e889830",
   "metadata": {},
   "source": [
    "### Checking Dataset is Balanced or Imbalanced\n"
   ]
  },
  {
   "cell_type": "code",
   "execution_count": 192,
   "id": "1d30f34e",
   "metadata": {},
   "outputs": [
    {
     "data": {
      "text/plain": [
       "0.0    187437\n",
       "1.0     58288\n",
       "Name: Is_Lead, dtype: int64"
      ]
     },
     "execution_count": 192,
     "metadata": {},
     "output_type": "execute_result"
    }
   ],
   "source": [
    "# count of Is_Lead distinct value\n",
    "\n",
    "data[\"Is_Lead\"].value_counts()"
   ]
  },
  {
   "cell_type": "markdown",
   "id": "1c0cee05",
   "metadata": {},
   "source": [
    "<strong><em> Observation </em></strong>\n",
    "\n",
    "Class 1 is around 23% of total data. This is imbalanced datset but still we have good amount of data to do modelling"
   ]
  },
  {
   "cell_type": "markdown",
   "id": "3fdd0c07",
   "metadata": {},
   "source": [
    "### Checking categorical and numerical columns"
   ]
  },
  {
   "cell_type": "code",
   "execution_count": 193,
   "id": "d5f95e93",
   "metadata": {},
   "outputs": [
    {
     "name": "stdout",
     "output_type": "stream",
     "text": [
      "No.of.unique values in each column :\n",
      " ID                     351037\n",
      "Gender                      2\n",
      "Age                        63\n",
      "Region_Code                35\n",
      "Occupation                  4\n",
      "Channel_Code                4\n",
      "Vintage                    66\n",
      "Credit_Product              2\n",
      "Avg_Account_Balance    162137\n",
      "Is_Active                   2\n",
      "Is_Lead                     2\n",
      "source                      2\n",
      "dtype: int64\n"
     ]
    }
   ],
   "source": [
    "# taking number of distinct value in each column\n",
    "\n",
    "print(\"No.of.unique values in each column :\\n\",data.nunique())"
   ]
  },
  {
   "cell_type": "markdown",
   "id": "39bcadb7",
   "metadata": {},
   "source": [
    "<strong><em> Observation </em></strong>\n",
    "\n",
    "> Gender , Occuption , Channel_Code , Credit_Product , Is_Active , Region_Code and Is_Lead are nominal categorical features\n",
    "\n",
    "> Age , Vintage , Avg_Account_Balance are Continuous features"
   ]
  },
  {
   "cell_type": "markdown",
   "id": "6f878d30",
   "metadata": {},
   "source": [
    "### Checking for null value"
   ]
  },
  {
   "cell_type": "code",
   "execution_count": 194,
   "id": "d819755c",
   "metadata": {},
   "outputs": [
    {
     "name": "stdout",
     "output_type": "stream",
     "text": [
      "No.of.unique values in each column :\n",
      " ID                          0\n",
      "Gender                      0\n",
      "Age                         0\n",
      "Region_Code                 0\n",
      "Occupation                  0\n",
      "Channel_Code                0\n",
      "Vintage                     0\n",
      "Credit_Product          41847\n",
      "Avg_Account_Balance         0\n",
      "Is_Active                   0\n",
      "Is_Lead                105312\n",
      "source                      0\n",
      "dtype: int64\n"
     ]
    }
   ],
   "source": [
    "# total count of null value in each column\n",
    "\n",
    "print(\"No.of.unique values in each column :\\n\",data.isnull().sum())"
   ]
  },
  {
   "cell_type": "markdown",
   "id": "79fc07f4",
   "metadata": {},
   "source": [
    "<strong><em> Observation </em></strong>\n",
    "\n",
    "> Credit_Product have 41847 null value.\n",
    "\n",
    "> Is_Lead have all null value which belong to Test data only"
   ]
  },
  {
   "cell_type": "markdown",
   "id": "826e4eaa",
   "metadata": {},
   "source": [
    "### Conclusion \n",
    "\n",
    "* ID column is not going to be used in prediction\n",
    "\n",
    "* source column is also dropped further\n",
    "\n",
    "* We need to handle only one null values column i.e. Credit_Product\n",
    "\n",
    "* We have 6 categorical columns ,which we need to convert into numerical columns\n",
    "\n",
    "* 5 Out of 6 are nominal features"
   ]
  },
  {
   "cell_type": "markdown",
   "id": "3ba0a811",
   "metadata": {},
   "source": [
    "## Exploratory Data Analysis"
   ]
  },
  {
   "cell_type": "code",
   "execution_count": 195,
   "id": "e49dfba0",
   "metadata": {
    "scrolled": false
   },
   "outputs": [
    {
     "data": {
      "text/plain": [
       "<seaborn.axisgrid.PairGrid at 0x1240bb4bb50>"
      ]
     },
     "execution_count": 195,
     "metadata": {},
     "output_type": "execute_result"
    },
    {
     "data": {
      "text/plain": [
       "<Figure size 432x1152 with 0 Axes>"
      ]
     },
     "metadata": {},
     "output_type": "display_data"
    },
    {
     "data": {
      "image/png": "[encoded data removed]",
      "text/plain": [
       "<Figure size 720x720 with 14 Axes>"
      ]
     },
     "metadata": {
      "needs_background": "light"
     },
     "output_type": "display_data"
    }
   ],
   "source": [
    "plt.figure(figsize=(6,16))\n",
    "sns.pairplot(data=data,corner=True)"
   ]
  },
  {
   "cell_type": "code",
   "execution_count": 196,
   "id": "7eb98d76",
   "metadata": {
    "scrolled": false
   },
   "outputs": [
    {
     "name": "stderr",
     "output_type": "stream",
     "text": [
      "c:\\users\\fostersfc\\appdata\\local\\programs\\python\\python38\\lib\\site-packages\\seaborn\\distributions.py:2557: FutureWarning: `distplot` is a deprecated function and will be removed in a future version. Please adapt your code to use either `displot` (a figure-level function with similar flexibility) or `histplot` (an axes-level function for histograms).\n",
      "  warnings.warn(msg, FutureWarning)\n"
     ]
    },
    {
     "data": {
      "image/png": "[encoded data removed]",
      "text/plain": [
       "<Figure size 432x288 with 1 Axes>"
      ]
     },
     "metadata": {
      "needs_background": "light"
     },
     "output_type": "display_data"
    }
   ],
   "source": [
    "sns.distplot(data['Avg_Account_Balance'])\n",
    "plt.show()"
   ]
  },
  {
   "cell_type": "code",
   "execution_count": 197,
   "id": "2418def3",
   "metadata": {},
   "outputs": [
    {
     "name": "stderr",
     "output_type": "stream",
     "text": [
      "c:\\users\\fostersfc\\appdata\\local\\programs\\python\\python38\\lib\\site-packages\\seaborn\\distributions.py:2557: FutureWarning: `distplot` is a deprecated function and will be removed in a future version. Please adapt your code to use either `displot` (a figure-level function with similar flexibility) or `histplot` (an axes-level function for histograms).\n",
      "  warnings.warn(msg, FutureWarning)\n"
     ]
    },
    {
     "data": {
      "image/png": "[encoded data removed]",
      "text/plain": [
       "<Figure size 432x288 with 1 Axes>"
      ]
     },
     "metadata": {
      "needs_background": "light"
     },
     "output_type": "display_data"
    }
   ],
   "source": [
    "data['Avg_Account_Balance'] = np.log(data['Avg_Account_Balance'])\n",
    "sns.distplot(data['Avg_Account_Balance'])\n",
    "plt.show()"
   ]
  },
  {
   "cell_type": "markdown",
   "id": "f4b14245",
   "metadata": {},
   "source": [
    "<strong><em> Observation </em></strong>\n",
    "\n",
    "> Average Account Balance have Power law distribution"
   ]
  },
  {
   "cell_type": "code",
   "execution_count": 198,
   "id": "c4424776",
   "metadata": {},
   "outputs": [
    {
     "name": "stderr",
     "output_type": "stream",
     "text": [
      "c:\\users\\fostersfc\\appdata\\local\\programs\\python\\python38\\lib\\site-packages\\seaborn\\distributions.py:2557: FutureWarning: `distplot` is a deprecated function and will be removed in a future version. Please adapt your code to use either `displot` (a figure-level function with similar flexibility) or `histplot` (an axes-level function for histograms).\n",
      "  warnings.warn(msg, FutureWarning)\n"
     ]
    },
    {
     "data": {
      "image/png": "[encoded data removed]",
      "text/plain": [
       "<Figure size 432x288 with 1 Axes>"
      ]
     },
     "metadata": {
      "needs_background": "light"
     },
     "output_type": "display_data"
    }
   ],
   "source": [
    "sns.distplot(data['Age'])\n",
    "plt.show()"
   ]
  },
  {
   "cell_type": "markdown",
   "id": "7ca75599",
   "metadata": {},
   "source": [
    "### Embedding Power BI Report"
   ]
  },
  {
   "cell_type": "code",
   "execution_count": 199,
   "id": "a4ac384b",
   "metadata": {},
   "outputs": [
    {
     "data": {
      "text/html": [
       "\n",
       "        <iframe\n",
       "            width=\"1200\"\n",
       "            height=\"400\"\n",
       "            src=\"https://app.powerbi.com/reportEmbed?reportId=30056a56-ae7a-4767-9b27-7dce3924fc84&autoAuth=true&ctid=e0793d39-0939-496d-b129-198edd916feb&config=eyJjbHVzdGVyVXJsIjoiaHR0cHM6Ly93YWJpLXVzLW5vcnRoLWNlbnRyYWwtcmVkaXJlY3QuYW5hbHlzaXMud2luZG93cy5uZXQvIn0%3D\"\n",
       "            frameborder=\"0\"\n",
       "            allowfullscreen\n",
       "        ></iframe>\n",
       "        "
      ],
      "text/plain": [
       "<IPython.lib.display.IFrame at 0x124015d0280>"
      ]
     },
     "execution_count": 199,
     "metadata": {},
     "output_type": "execute_result"
    }
   ],
   "source": [
    "powerBiEmbed = 'https://app.powerbi.com/reportEmbed?reportId=30056a56-ae7a-4767-9b27-7dce3924fc84&autoAuth=true&ctid=e0793d39-0939-496d-b129-198edd916feb&config=eyJjbHVzdGVyVXJsIjoiaHR0cHM6Ly93YWJpLXVzLW5vcnRoLWNlbnRyYWwtcmVkaXJlY3QuYW5hbHlzaXMud2luZG93cy5uZXQvIn0%3D'\n",
    "\n",
    "IFrame(powerBiEmbed, width=1200, height=400)"
   ]
  },
  {
   "cell_type": "code",
   "execution_count": 3,
   "id": "8796f44a",
   "metadata": {},
   "outputs": [],
   "source": [
    "# In case if above report doesn't show up or ask for login , please open file in this same directory named as \"report.html\""
   ]
  },
  {
   "cell_type": "markdown",
   "id": "e9dfaac5",
   "metadata": {},
   "source": [
    "## Data Pre-Processing"
   ]
  },
  {
   "cell_type": "markdown",
   "id": "63bcc055",
   "metadata": {},
   "source": [
    "### Check For Duplicates"
   ]
  },
  {
   "cell_type": "code",
   "execution_count": 200,
   "id": "46af01c1",
   "metadata": {},
   "outputs": [
    {
     "name": "stdout",
     "output_type": "stream",
     "text": [
      "No row is duplicate\n"
     ]
    }
   ],
   "source": [
    "# store duplicate boolean value into a variable\n",
    "\n",
    "duplicate_row = data.duplicated()     \n",
    "\n",
    "# check if there is any True value , True means that row is duplicated else print no row is duplicated\n",
    "for row_index in range (0,len(data)):\n",
    "    if duplicate_row[row_index] == True :\n",
    "        print(\"Row\",row_index,\"is duplicate.\")\n",
    "else:\n",
    "    print(\"No row is duplicate\")"
   ]
  },
  {
   "cell_type": "markdown",
   "id": "fa23c757",
   "metadata": {},
   "source": [
    "### Handle the missing value"
   ]
  },
  {
   "cell_type": "code",
   "execution_count": 201,
   "id": "915f3e3e",
   "metadata": {},
   "outputs": [
    {
     "data": {
      "text/plain": [
       "No     205965\n",
       "Yes    103225\n",
       "Name: Credit_Product, dtype: int64"
      ]
     },
     "execution_count": 201,
     "metadata": {},
     "output_type": "execute_result"
    }
   ],
   "source": [
    "# As we check above Credit_Product is only column who have null values\n",
    "\n",
    "data[\"Credit_Product\"].value_counts()"
   ]
  },
  {
   "cell_type": "markdown",
   "id": "a934e8df",
   "metadata": {},
   "source": [
    "<strong><em> Observation </em></strong>\n",
    "* As we already know Credit_product has 41847 null value\n",
    "\n",
    "<strong><em> Solution </em></strong>\n",
    "* Considering Hypothesis Testing \n",
    "\n",
    "> Null Hypothesis : Replacing null values with least value will improve model accuracy \n",
    "\n",
    "> Alternative Hypothesis : Replacing null values with least value will not improve model accuracy "
   ]
  },
  {
   "cell_type": "code",
   "execution_count": 202,
   "id": "b0a185d2",
   "metadata": {},
   "outputs": [
    {
     "name": "stdout",
     "output_type": "stream",
     "text": [
      "Before handling missing value present at some rows are nan\n",
      "Before handling missing value present at some rows are Yes\n"
     ]
    }
   ],
   "source": [
    "# Null values are present before handling missing values\n",
    "\n",
    "print(\"Before handling missing value present at some rows are\",data[\"Credit_Product\"][6])\n",
    "\n",
    "# Replacing null value with Yes\n",
    "\n",
    "data[\"Credit_Product\"].fillna(\"Yes\" , inplace= True )\n",
    "\n",
    "# Null values are not present after handling missing values\n",
    "\n",
    "print(\"Before handling missing value present at some rows are\",data[\"Credit_Product\"][6])"
   ]
  },
  {
   "cell_type": "code",
   "execution_count": 203,
   "id": "dc5ba6fa",
   "metadata": {},
   "outputs": [
    {
     "data": {
      "text/html": [
       "<div>\n",
       "<style scoped>\n",
       "    .dataframe tbody tr th:only-of-type {\n",
       "        vertical-align: middle;\n",
       "    }\n",
       "\n",
       "    .dataframe tbody tr th {\n",
       "        vertical-align: top;\n",
       "    }\n",
       "\n",
       "    .dataframe thead th {\n",
       "        text-align: right;\n",
       "    }\n",
       "</style>\n",
       "<table border=\"1\" class=\"dataframe\">\n",
       "  <thead>\n",
       "    <tr style=\"text-align: right;\">\n",
       "      <th></th>\n",
       "      <th>ID</th>\n",
       "      <th>Gender</th>\n",
       "      <th>Age</th>\n",
       "      <th>Region_Code</th>\n",
       "      <th>Occupation</th>\n",
       "      <th>Channel_Code</th>\n",
       "      <th>Vintage</th>\n",
       "      <th>Credit_Product</th>\n",
       "      <th>Avg_Account_Balance</th>\n",
       "      <th>Is_Active</th>\n",
       "      <th>Is_Lead</th>\n",
       "      <th>source</th>\n",
       "    </tr>\n",
       "  </thead>\n",
       "  <tbody>\n",
       "    <tr>\n",
       "      <th>0</th>\n",
       "      <td>NNVBBKZB</td>\n",
       "      <td>Female</td>\n",
       "      <td>73</td>\n",
       "      <td>RG268</td>\n",
       "      <td>Other</td>\n",
       "      <td>X3</td>\n",
       "      <td>43</td>\n",
       "      <td>No</td>\n",
       "      <td>13.860193</td>\n",
       "      <td>No</td>\n",
       "      <td>0.0</td>\n",
       "      <td>train</td>\n",
       "    </tr>\n",
       "    <tr>\n",
       "      <th>1</th>\n",
       "      <td>IDD62UNG</td>\n",
       "      <td>Female</td>\n",
       "      <td>30</td>\n",
       "      <td>RG277</td>\n",
       "      <td>Salaried</td>\n",
       "      <td>X1</td>\n",
       "      <td>32</td>\n",
       "      <td>No</td>\n",
       "      <td>13.274205</td>\n",
       "      <td>No</td>\n",
       "      <td>0.0</td>\n",
       "      <td>train</td>\n",
       "    </tr>\n",
       "    <tr>\n",
       "      <th>2</th>\n",
       "      <td>HD3DSEMC</td>\n",
       "      <td>Female</td>\n",
       "      <td>56</td>\n",
       "      <td>RG268</td>\n",
       "      <td>Self_Employed</td>\n",
       "      <td>X3</td>\n",
       "      <td>26</td>\n",
       "      <td>No</td>\n",
       "      <td>14.210464</td>\n",
       "      <td>Yes</td>\n",
       "      <td>0.0</td>\n",
       "      <td>train</td>\n",
       "    </tr>\n",
       "    <tr>\n",
       "      <th>3</th>\n",
       "      <td>BF3NC7KV</td>\n",
       "      <td>Male</td>\n",
       "      <td>34</td>\n",
       "      <td>RG270</td>\n",
       "      <td>Salaried</td>\n",
       "      <td>X1</td>\n",
       "      <td>19</td>\n",
       "      <td>No</td>\n",
       "      <td>13.061453</td>\n",
       "      <td>No</td>\n",
       "      <td>0.0</td>\n",
       "      <td>train</td>\n",
       "    </tr>\n",
       "    <tr>\n",
       "      <th>4</th>\n",
       "      <td>TEASRWXV</td>\n",
       "      <td>Female</td>\n",
       "      <td>30</td>\n",
       "      <td>RG282</td>\n",
       "      <td>Salaried</td>\n",
       "      <td>X1</td>\n",
       "      <td>33</td>\n",
       "      <td>No</td>\n",
       "      <td>13.695360</td>\n",
       "      <td>No</td>\n",
       "      <td>0.0</td>\n",
       "      <td>train</td>\n",
       "    </tr>\n",
       "  </tbody>\n",
       "</table>\n",
       "</div>"
      ],
      "text/plain": [
       "         ID  Gender  Age Region_Code     Occupation Channel_Code  Vintage  \\\n",
       "0  NNVBBKZB  Female   73       RG268          Other           X3       43   \n",
       "1  IDD62UNG  Female   30       RG277       Salaried           X1       32   \n",
       "2  HD3DSEMC  Female   56       RG268  Self_Employed           X3       26   \n",
       "3  BF3NC7KV    Male   34       RG270       Salaried           X1       19   \n",
       "4  TEASRWXV  Female   30       RG282       Salaried           X1       33   \n",
       "\n",
       "  Credit_Product  Avg_Account_Balance Is_Active  Is_Lead source  \n",
       "0             No            13.860193        No      0.0  train  \n",
       "1             No            13.274205        No      0.0  train  \n",
       "2             No            14.210464       Yes      0.0  train  \n",
       "3             No            13.061453        No      0.0  train  \n",
       "4             No            13.695360        No      0.0  train  "
      ]
     },
     "metadata": {},
     "output_type": "display_data"
    },
    {
     "data": {
      "text/plain": [
       "(351037, 12)"
      ]
     },
     "metadata": {},
     "output_type": "display_data"
    }
   ],
   "source": [
    "display(data.head())\n",
    "display(data.shape)"
   ]
  },
  {
   "cell_type": "markdown",
   "id": "2ce30001",
   "metadata": {},
   "source": [
    "### Separate dataset as earlier on basis of source column"
   ]
  },
  {
   "cell_type": "code",
   "execution_count": 204,
   "id": "ceb6b4c4",
   "metadata": {},
   "outputs": [],
   "source": [
    "train = data.loc[data['source']==\"train\"]\n",
    "test = data.loc[data['source']==\"test\"]"
   ]
  },
  {
   "cell_type": "code",
   "execution_count": 205,
   "id": "70037bfe",
   "metadata": {},
   "outputs": [
    {
     "data": {
      "text/plain": [
       "((245725, 12), (105312, 12))"
      ]
     },
     "execution_count": 205,
     "metadata": {},
     "output_type": "execute_result"
    }
   ],
   "source": [
    "train.shape , test.shape"
   ]
  },
  {
   "cell_type": "code",
   "execution_count": 206,
   "id": "736929f0",
   "metadata": {},
   "outputs": [
    {
     "data": {
      "text/html": [
       "<div>\n",
       "<style scoped>\n",
       "    .dataframe tbody tr th:only-of-type {\n",
       "        vertical-align: middle;\n",
       "    }\n",
       "\n",
       "    .dataframe tbody tr th {\n",
       "        vertical-align: top;\n",
       "    }\n",
       "\n",
       "    .dataframe thead th {\n",
       "        text-align: right;\n",
       "    }\n",
       "</style>\n",
       "<table border=\"1\" class=\"dataframe\">\n",
       "  <thead>\n",
       "    <tr style=\"text-align: right;\">\n",
       "      <th></th>\n",
       "      <th>ID</th>\n",
       "      <th>Gender</th>\n",
       "      <th>Age</th>\n",
       "      <th>Region_Code</th>\n",
       "      <th>Occupation</th>\n",
       "      <th>Channel_Code</th>\n",
       "      <th>Vintage</th>\n",
       "      <th>Credit_Product</th>\n",
       "      <th>Avg_Account_Balance</th>\n",
       "      <th>Is_Active</th>\n",
       "      <th>Is_Lead</th>\n",
       "      <th>source</th>\n",
       "    </tr>\n",
       "  </thead>\n",
       "  <tbody>\n",
       "    <tr>\n",
       "      <th>0</th>\n",
       "      <td>NNVBBKZB</td>\n",
       "      <td>Female</td>\n",
       "      <td>73</td>\n",
       "      <td>RG268</td>\n",
       "      <td>Other</td>\n",
       "      <td>X3</td>\n",
       "      <td>43</td>\n",
       "      <td>No</td>\n",
       "      <td>13.860193</td>\n",
       "      <td>No</td>\n",
       "      <td>0.0</td>\n",
       "      <td>train</td>\n",
       "    </tr>\n",
       "    <tr>\n",
       "      <th>1</th>\n",
       "      <td>IDD62UNG</td>\n",
       "      <td>Female</td>\n",
       "      <td>30</td>\n",
       "      <td>RG277</td>\n",
       "      <td>Salaried</td>\n",
       "      <td>X1</td>\n",
       "      <td>32</td>\n",
       "      <td>No</td>\n",
       "      <td>13.274205</td>\n",
       "      <td>No</td>\n",
       "      <td>0.0</td>\n",
       "      <td>train</td>\n",
       "    </tr>\n",
       "    <tr>\n",
       "      <th>2</th>\n",
       "      <td>HD3DSEMC</td>\n",
       "      <td>Female</td>\n",
       "      <td>56</td>\n",
       "      <td>RG268</td>\n",
       "      <td>Self_Employed</td>\n",
       "      <td>X3</td>\n",
       "      <td>26</td>\n",
       "      <td>No</td>\n",
       "      <td>14.210464</td>\n",
       "      <td>Yes</td>\n",
       "      <td>0.0</td>\n",
       "      <td>train</td>\n",
       "    </tr>\n",
       "    <tr>\n",
       "      <th>3</th>\n",
       "      <td>BF3NC7KV</td>\n",
       "      <td>Male</td>\n",
       "      <td>34</td>\n",
       "      <td>RG270</td>\n",
       "      <td>Salaried</td>\n",
       "      <td>X1</td>\n",
       "      <td>19</td>\n",
       "      <td>No</td>\n",
       "      <td>13.061453</td>\n",
       "      <td>No</td>\n",
       "      <td>0.0</td>\n",
       "      <td>train</td>\n",
       "    </tr>\n",
       "    <tr>\n",
       "      <th>4</th>\n",
       "      <td>TEASRWXV</td>\n",
       "      <td>Female</td>\n",
       "      <td>30</td>\n",
       "      <td>RG282</td>\n",
       "      <td>Salaried</td>\n",
       "      <td>X1</td>\n",
       "      <td>33</td>\n",
       "      <td>No</td>\n",
       "      <td>13.695360</td>\n",
       "      <td>No</td>\n",
       "      <td>0.0</td>\n",
       "      <td>train</td>\n",
       "    </tr>\n",
       "    <tr>\n",
       "      <th>...</th>\n",
       "      <td>...</td>\n",
       "      <td>...</td>\n",
       "      <td>...</td>\n",
       "      <td>...</td>\n",
       "      <td>...</td>\n",
       "      <td>...</td>\n",
       "      <td>...</td>\n",
       "      <td>...</td>\n",
       "      <td>...</td>\n",
       "      <td>...</td>\n",
       "      <td>...</td>\n",
       "      <td>...</td>\n",
       "    </tr>\n",
       "    <tr>\n",
       "      <th>245720</th>\n",
       "      <td>BPAWWXZN</td>\n",
       "      <td>Male</td>\n",
       "      <td>51</td>\n",
       "      <td>RG284</td>\n",
       "      <td>Self_Employed</td>\n",
       "      <td>X3</td>\n",
       "      <td>109</td>\n",
       "      <td>Yes</td>\n",
       "      <td>14.470741</td>\n",
       "      <td>No</td>\n",
       "      <td>0.0</td>\n",
       "      <td>train</td>\n",
       "    </tr>\n",
       "    <tr>\n",
       "      <th>245721</th>\n",
       "      <td>HFNB7JY8</td>\n",
       "      <td>Male</td>\n",
       "      <td>27</td>\n",
       "      <td>RG268</td>\n",
       "      <td>Salaried</td>\n",
       "      <td>X1</td>\n",
       "      <td>15</td>\n",
       "      <td>No</td>\n",
       "      <td>13.668114</td>\n",
       "      <td>Yes</td>\n",
       "      <td>0.0</td>\n",
       "      <td>train</td>\n",
       "    </tr>\n",
       "    <tr>\n",
       "      <th>245722</th>\n",
       "      <td>GEHAUCWT</td>\n",
       "      <td>Female</td>\n",
       "      <td>26</td>\n",
       "      <td>RG281</td>\n",
       "      <td>Salaried</td>\n",
       "      <td>X1</td>\n",
       "      <td>13</td>\n",
       "      <td>No</td>\n",
       "      <td>13.416016</td>\n",
       "      <td>No</td>\n",
       "      <td>0.0</td>\n",
       "      <td>train</td>\n",
       "    </tr>\n",
       "    <tr>\n",
       "      <th>245723</th>\n",
       "      <td>GE7V8SAH</td>\n",
       "      <td>Female</td>\n",
       "      <td>28</td>\n",
       "      <td>RG273</td>\n",
       "      <td>Salaried</td>\n",
       "      <td>X1</td>\n",
       "      <td>31</td>\n",
       "      <td>No</td>\n",
       "      <td>12.917806</td>\n",
       "      <td>No</td>\n",
       "      <td>0.0</td>\n",
       "      <td>train</td>\n",
       "    </tr>\n",
       "    <tr>\n",
       "      <th>245724</th>\n",
       "      <td>BOCZSWLJ</td>\n",
       "      <td>Male</td>\n",
       "      <td>29</td>\n",
       "      <td>RG269</td>\n",
       "      <td>Salaried</td>\n",
       "      <td>X1</td>\n",
       "      <td>21</td>\n",
       "      <td>No</td>\n",
       "      <td>13.937087</td>\n",
       "      <td>No</td>\n",
       "      <td>0.0</td>\n",
       "      <td>train</td>\n",
       "    </tr>\n",
       "  </tbody>\n",
       "</table>\n",
       "<p>245725 rows × 12 columns</p>\n",
       "</div>"
      ],
      "text/plain": [
       "              ID  Gender  Age Region_Code     Occupation Channel_Code  \\\n",
       "0       NNVBBKZB  Female   73       RG268          Other           X3   \n",
       "1       IDD62UNG  Female   30       RG277       Salaried           X1   \n",
       "2       HD3DSEMC  Female   56       RG268  Self_Employed           X3   \n",
       "3       BF3NC7KV    Male   34       RG270       Salaried           X1   \n",
       "4       TEASRWXV  Female   30       RG282       Salaried           X1   \n",
       "...          ...     ...  ...         ...            ...          ...   \n",
       "245720  BPAWWXZN    Male   51       RG284  Self_Employed           X3   \n",
       "245721  HFNB7JY8    Male   27       RG268       Salaried           X1   \n",
       "245722  GEHAUCWT  Female   26       RG281       Salaried           X1   \n",
       "245723  GE7V8SAH  Female   28       RG273       Salaried           X1   \n",
       "245724  BOCZSWLJ    Male   29       RG269       Salaried           X1   \n",
       "\n",
       "        Vintage Credit_Product  Avg_Account_Balance Is_Active  Is_Lead source  \n",
       "0            43             No            13.860193        No      0.0  train  \n",
       "1            32             No            13.274205        No      0.0  train  \n",
       "2            26             No            14.210464       Yes      0.0  train  \n",
       "3            19             No            13.061453        No      0.0  train  \n",
       "4            33             No            13.695360        No      0.0  train  \n",
       "...         ...            ...                  ...       ...      ...    ...  \n",
       "245720      109            Yes            14.470741        No      0.0  train  \n",
       "245721       15             No            13.668114       Yes      0.0  train  \n",
       "245722       13             No            13.416016        No      0.0  train  \n",
       "245723       31             No            12.917806        No      0.0  train  \n",
       "245724       21             No            13.937087        No      0.0  train  \n",
       "\n",
       "[245725 rows x 12 columns]"
      ]
     },
     "metadata": {},
     "output_type": "display_data"
    },
    {
     "data": {
      "text/html": [
       "<div>\n",
       "<style scoped>\n",
       "    .dataframe tbody tr th:only-of-type {\n",
       "        vertical-align: middle;\n",
       "    }\n",
       "\n",
       "    .dataframe tbody tr th {\n",
       "        vertical-align: top;\n",
       "    }\n",
       "\n",
       "    .dataframe thead th {\n",
       "        text-align: right;\n",
       "    }\n",
       "</style>\n",
       "<table border=\"1\" class=\"dataframe\">\n",
       "  <thead>\n",
       "    <tr style=\"text-align: right;\">\n",
       "      <th></th>\n",
       "      <th>ID</th>\n",
       "      <th>Gender</th>\n",
       "      <th>Age</th>\n",
       "      <th>Region_Code</th>\n",
       "      <th>Occupation</th>\n",
       "      <th>Channel_Code</th>\n",
       "      <th>Vintage</th>\n",
       "      <th>Credit_Product</th>\n",
       "      <th>Avg_Account_Balance</th>\n",
       "      <th>Is_Active</th>\n",
       "      <th>Is_Lead</th>\n",
       "      <th>source</th>\n",
       "    </tr>\n",
       "  </thead>\n",
       "  <tbody>\n",
       "    <tr>\n",
       "      <th>245725</th>\n",
       "      <td>VBENBARO</td>\n",
       "      <td>Male</td>\n",
       "      <td>29</td>\n",
       "      <td>RG254</td>\n",
       "      <td>Other</td>\n",
       "      <td>X1</td>\n",
       "      <td>25</td>\n",
       "      <td>Yes</td>\n",
       "      <td>13.517598</td>\n",
       "      <td>No</td>\n",
       "      <td>NaN</td>\n",
       "      <td>test</td>\n",
       "    </tr>\n",
       "    <tr>\n",
       "      <th>245726</th>\n",
       "      <td>CCMEWNKY</td>\n",
       "      <td>Male</td>\n",
       "      <td>43</td>\n",
       "      <td>RG268</td>\n",
       "      <td>Other</td>\n",
       "      <td>X2</td>\n",
       "      <td>49</td>\n",
       "      <td>Yes</td>\n",
       "      <td>13.738129</td>\n",
       "      <td>No</td>\n",
       "      <td>NaN</td>\n",
       "      <td>test</td>\n",
       "    </tr>\n",
       "    <tr>\n",
       "      <th>245727</th>\n",
       "      <td>VK3KGA9M</td>\n",
       "      <td>Male</td>\n",
       "      <td>31</td>\n",
       "      <td>RG270</td>\n",
       "      <td>Salaried</td>\n",
       "      <td>X1</td>\n",
       "      <td>14</td>\n",
       "      <td>No</td>\n",
       "      <td>12.282798</td>\n",
       "      <td>No</td>\n",
       "      <td>NaN</td>\n",
       "      <td>test</td>\n",
       "    </tr>\n",
       "    <tr>\n",
       "      <th>245728</th>\n",
       "      <td>TT8RPZVC</td>\n",
       "      <td>Male</td>\n",
       "      <td>29</td>\n",
       "      <td>RG272</td>\n",
       "      <td>Other</td>\n",
       "      <td>X1</td>\n",
       "      <td>33</td>\n",
       "      <td>No</td>\n",
       "      <td>13.674028</td>\n",
       "      <td>No</td>\n",
       "      <td>NaN</td>\n",
       "      <td>test</td>\n",
       "    </tr>\n",
       "    <tr>\n",
       "      <th>245729</th>\n",
       "      <td>SHQZEYTZ</td>\n",
       "      <td>Female</td>\n",
       "      <td>29</td>\n",
       "      <td>RG270</td>\n",
       "      <td>Other</td>\n",
       "      <td>X1</td>\n",
       "      <td>19</td>\n",
       "      <td>No</td>\n",
       "      <td>13.395572</td>\n",
       "      <td>No</td>\n",
       "      <td>NaN</td>\n",
       "      <td>test</td>\n",
       "    </tr>\n",
       "    <tr>\n",
       "      <th>...</th>\n",
       "      <td>...</td>\n",
       "      <td>...</td>\n",
       "      <td>...</td>\n",
       "      <td>...</td>\n",
       "      <td>...</td>\n",
       "      <td>...</td>\n",
       "      <td>...</td>\n",
       "      <td>...</td>\n",
       "      <td>...</td>\n",
       "      <td>...</td>\n",
       "      <td>...</td>\n",
       "      <td>...</td>\n",
       "    </tr>\n",
       "    <tr>\n",
       "      <th>351032</th>\n",
       "      <td>DBENJOYI</td>\n",
       "      <td>Male</td>\n",
       "      <td>52</td>\n",
       "      <td>RG268</td>\n",
       "      <td>Salaried</td>\n",
       "      <td>X2</td>\n",
       "      <td>86</td>\n",
       "      <td>Yes</td>\n",
       "      <td>15.260677</td>\n",
       "      <td>Yes</td>\n",
       "      <td>NaN</td>\n",
       "      <td>test</td>\n",
       "    </tr>\n",
       "    <tr>\n",
       "      <th>351033</th>\n",
       "      <td>CWQ72DWS</td>\n",
       "      <td>Male</td>\n",
       "      <td>55</td>\n",
       "      <td>RG277</td>\n",
       "      <td>Other</td>\n",
       "      <td>X2</td>\n",
       "      <td>86</td>\n",
       "      <td>Yes</td>\n",
       "      <td>13.963200</td>\n",
       "      <td>No</td>\n",
       "      <td>NaN</td>\n",
       "      <td>test</td>\n",
       "    </tr>\n",
       "    <tr>\n",
       "      <th>351034</th>\n",
       "      <td>HDESC8GU</td>\n",
       "      <td>Male</td>\n",
       "      <td>35</td>\n",
       "      <td>RG254</td>\n",
       "      <td>Salaried</td>\n",
       "      <td>X4</td>\n",
       "      <td>15</td>\n",
       "      <td>No</td>\n",
       "      <td>14.348329</td>\n",
       "      <td>No</td>\n",
       "      <td>NaN</td>\n",
       "      <td>test</td>\n",
       "    </tr>\n",
       "    <tr>\n",
       "      <th>351035</th>\n",
       "      <td>2PW4SFCA</td>\n",
       "      <td>Male</td>\n",
       "      <td>53</td>\n",
       "      <td>RG254</td>\n",
       "      <td>Other</td>\n",
       "      <td>X3</td>\n",
       "      <td>93</td>\n",
       "      <td>No</td>\n",
       "      <td>13.510585</td>\n",
       "      <td>Yes</td>\n",
       "      <td>NaN</td>\n",
       "      <td>test</td>\n",
       "    </tr>\n",
       "    <tr>\n",
       "      <th>351036</th>\n",
       "      <td>F2NOYPPZ</td>\n",
       "      <td>Male</td>\n",
       "      <td>27</td>\n",
       "      <td>RG256</td>\n",
       "      <td>Salaried</td>\n",
       "      <td>X1</td>\n",
       "      <td>21</td>\n",
       "      <td>No</td>\n",
       "      <td>13.290527</td>\n",
       "      <td>No</td>\n",
       "      <td>NaN</td>\n",
       "      <td>test</td>\n",
       "    </tr>\n",
       "  </tbody>\n",
       "</table>\n",
       "<p>105312 rows × 12 columns</p>\n",
       "</div>"
      ],
      "text/plain": [
       "              ID  Gender  Age Region_Code Occupation Channel_Code  Vintage  \\\n",
       "245725  VBENBARO    Male   29       RG254      Other           X1       25   \n",
       "245726  CCMEWNKY    Male   43       RG268      Other           X2       49   \n",
       "245727  VK3KGA9M    Male   31       RG270   Salaried           X1       14   \n",
       "245728  TT8RPZVC    Male   29       RG272      Other           X1       33   \n",
       "245729  SHQZEYTZ  Female   29       RG270      Other           X1       19   \n",
       "...          ...     ...  ...         ...        ...          ...      ...   \n",
       "351032  DBENJOYI    Male   52       RG268   Salaried           X2       86   \n",
       "351033  CWQ72DWS    Male   55       RG277      Other           X2       86   \n",
       "351034  HDESC8GU    Male   35       RG254   Salaried           X4       15   \n",
       "351035  2PW4SFCA    Male   53       RG254      Other           X3       93   \n",
       "351036  F2NOYPPZ    Male   27       RG256   Salaried           X1       21   \n",
       "\n",
       "       Credit_Product  Avg_Account_Balance Is_Active  Is_Lead source  \n",
       "245725            Yes            13.517598        No      NaN   test  \n",
       "245726            Yes            13.738129        No      NaN   test  \n",
       "245727             No            12.282798        No      NaN   test  \n",
       "245728             No            13.674028        No      NaN   test  \n",
       "245729             No            13.395572        No      NaN   test  \n",
       "...               ...                  ...       ...      ...    ...  \n",
       "351032            Yes            15.260677       Yes      NaN   test  \n",
       "351033            Yes            13.963200        No      NaN   test  \n",
       "351034             No            14.348329        No      NaN   test  \n",
       "351035             No            13.510585       Yes      NaN   test  \n",
       "351036             No            13.290527        No      NaN   test  \n",
       "\n",
       "[105312 rows x 12 columns]"
      ]
     },
     "metadata": {},
     "output_type": "display_data"
    }
   ],
   "source": [
    "display(train)\n",
    "display(test)"
   ]
  },
  {
   "cell_type": "markdown",
   "id": "8d849a96",
   "metadata": {},
   "source": [
    "### Handle unnecessary column"
   ]
  },
  {
   "cell_type": "code",
   "execution_count": 207,
   "id": "a72d61bb",
   "metadata": {},
   "outputs": [
    {
     "name": "stderr",
     "output_type": "stream",
     "text": [
      "c:\\users\\fostersfc\\appdata\\local\\programs\\python\\python38\\lib\\site-packages\\pandas\\core\\frame.py:4308: SettingWithCopyWarning: \n",
      "A value is trying to be set on a copy of a slice from a DataFrame\n",
      "\n",
      "See the caveats in the documentation: https://pandas.pydata.org/pandas-docs/stable/user_guide/indexing.html#returning-a-view-versus-a-copy\n",
      "  return super().drop(\n"
     ]
    }
   ],
   "source": [
    "#Dropping unnecessary columns such as ID and source \n",
    "test.drop(['Is_Lead','source',\"ID\"],axis=1,inplace=True)\n",
    "train.drop(['ID','source'],axis=1,inplace=True)"
   ]
  },
  {
   "cell_type": "code",
   "execution_count": 208,
   "id": "05ea20cb",
   "metadata": {
    "scrolled": true
   },
   "outputs": [
    {
     "data": {
      "text/html": [
       "<div>\n",
       "<style scoped>\n",
       "    .dataframe tbody tr th:only-of-type {\n",
       "        vertical-align: middle;\n",
       "    }\n",
       "\n",
       "    .dataframe tbody tr th {\n",
       "        vertical-align: top;\n",
       "    }\n",
       "\n",
       "    .dataframe thead th {\n",
       "        text-align: right;\n",
       "    }\n",
       "</style>\n",
       "<table border=\"1\" class=\"dataframe\">\n",
       "  <thead>\n",
       "    <tr style=\"text-align: right;\">\n",
       "      <th></th>\n",
       "      <th>Gender</th>\n",
       "      <th>Age</th>\n",
       "      <th>Region_Code</th>\n",
       "      <th>Occupation</th>\n",
       "      <th>Channel_Code</th>\n",
       "      <th>Vintage</th>\n",
       "      <th>Credit_Product</th>\n",
       "      <th>Avg_Account_Balance</th>\n",
       "      <th>Is_Active</th>\n",
       "      <th>Is_Lead</th>\n",
       "    </tr>\n",
       "  </thead>\n",
       "  <tbody>\n",
       "    <tr>\n",
       "      <th>0</th>\n",
       "      <td>Female</td>\n",
       "      <td>73</td>\n",
       "      <td>RG268</td>\n",
       "      <td>Other</td>\n",
       "      <td>X3</td>\n",
       "      <td>43</td>\n",
       "      <td>No</td>\n",
       "      <td>13.860193</td>\n",
       "      <td>No</td>\n",
       "      <td>0.0</td>\n",
       "    </tr>\n",
       "    <tr>\n",
       "      <th>1</th>\n",
       "      <td>Female</td>\n",
       "      <td>30</td>\n",
       "      <td>RG277</td>\n",
       "      <td>Salaried</td>\n",
       "      <td>X1</td>\n",
       "      <td>32</td>\n",
       "      <td>No</td>\n",
       "      <td>13.274205</td>\n",
       "      <td>No</td>\n",
       "      <td>0.0</td>\n",
       "    </tr>\n",
       "    <tr>\n",
       "      <th>2</th>\n",
       "      <td>Female</td>\n",
       "      <td>56</td>\n",
       "      <td>RG268</td>\n",
       "      <td>Self_Employed</td>\n",
       "      <td>X3</td>\n",
       "      <td>26</td>\n",
       "      <td>No</td>\n",
       "      <td>14.210464</td>\n",
       "      <td>Yes</td>\n",
       "      <td>0.0</td>\n",
       "    </tr>\n",
       "    <tr>\n",
       "      <th>3</th>\n",
       "      <td>Male</td>\n",
       "      <td>34</td>\n",
       "      <td>RG270</td>\n",
       "      <td>Salaried</td>\n",
       "      <td>X1</td>\n",
       "      <td>19</td>\n",
       "      <td>No</td>\n",
       "      <td>13.061453</td>\n",
       "      <td>No</td>\n",
       "      <td>0.0</td>\n",
       "    </tr>\n",
       "    <tr>\n",
       "      <th>4</th>\n",
       "      <td>Female</td>\n",
       "      <td>30</td>\n",
       "      <td>RG282</td>\n",
       "      <td>Salaried</td>\n",
       "      <td>X1</td>\n",
       "      <td>33</td>\n",
       "      <td>No</td>\n",
       "      <td>13.695360</td>\n",
       "      <td>No</td>\n",
       "      <td>0.0</td>\n",
       "    </tr>\n",
       "    <tr>\n",
       "      <th>...</th>\n",
       "      <td>...</td>\n",
       "      <td>...</td>\n",
       "      <td>...</td>\n",
       "      <td>...</td>\n",
       "      <td>...</td>\n",
       "      <td>...</td>\n",
       "      <td>...</td>\n",
       "      <td>...</td>\n",
       "      <td>...</td>\n",
       "      <td>...</td>\n",
       "    </tr>\n",
       "    <tr>\n",
       "      <th>245720</th>\n",
       "      <td>Male</td>\n",
       "      <td>51</td>\n",
       "      <td>RG284</td>\n",
       "      <td>Self_Employed</td>\n",
       "      <td>X3</td>\n",
       "      <td>109</td>\n",
       "      <td>Yes</td>\n",
       "      <td>14.470741</td>\n",
       "      <td>No</td>\n",
       "      <td>0.0</td>\n",
       "    </tr>\n",
       "    <tr>\n",
       "      <th>245721</th>\n",
       "      <td>Male</td>\n",
       "      <td>27</td>\n",
       "      <td>RG268</td>\n",
       "      <td>Salaried</td>\n",
       "      <td>X1</td>\n",
       "      <td>15</td>\n",
       "      <td>No</td>\n",
       "      <td>13.668114</td>\n",
       "      <td>Yes</td>\n",
       "      <td>0.0</td>\n",
       "    </tr>\n",
       "    <tr>\n",
       "      <th>245722</th>\n",
       "      <td>Female</td>\n",
       "      <td>26</td>\n",
       "      <td>RG281</td>\n",
       "      <td>Salaried</td>\n",
       "      <td>X1</td>\n",
       "      <td>13</td>\n",
       "      <td>No</td>\n",
       "      <td>13.416016</td>\n",
       "      <td>No</td>\n",
       "      <td>0.0</td>\n",
       "    </tr>\n",
       "    <tr>\n",
       "      <th>245723</th>\n",
       "      <td>Female</td>\n",
       "      <td>28</td>\n",
       "      <td>RG273</td>\n",
       "      <td>Salaried</td>\n",
       "      <td>X1</td>\n",
       "      <td>31</td>\n",
       "      <td>No</td>\n",
       "      <td>12.917806</td>\n",
       "      <td>No</td>\n",
       "      <td>0.0</td>\n",
       "    </tr>\n",
       "    <tr>\n",
       "      <th>245724</th>\n",
       "      <td>Male</td>\n",
       "      <td>29</td>\n",
       "      <td>RG269</td>\n",
       "      <td>Salaried</td>\n",
       "      <td>X1</td>\n",
       "      <td>21</td>\n",
       "      <td>No</td>\n",
       "      <td>13.937087</td>\n",
       "      <td>No</td>\n",
       "      <td>0.0</td>\n",
       "    </tr>\n",
       "  </tbody>\n",
       "</table>\n",
       "<p>245725 rows × 10 columns</p>\n",
       "</div>"
      ],
      "text/plain": [
       "        Gender  Age Region_Code     Occupation Channel_Code  Vintage  \\\n",
       "0       Female   73       RG268          Other           X3       43   \n",
       "1       Female   30       RG277       Salaried           X1       32   \n",
       "2       Female   56       RG268  Self_Employed           X3       26   \n",
       "3         Male   34       RG270       Salaried           X1       19   \n",
       "4       Female   30       RG282       Salaried           X1       33   \n",
       "...        ...  ...         ...            ...          ...      ...   \n",
       "245720    Male   51       RG284  Self_Employed           X3      109   \n",
       "245721    Male   27       RG268       Salaried           X1       15   \n",
       "245722  Female   26       RG281       Salaried           X1       13   \n",
       "245723  Female   28       RG273       Salaried           X1       31   \n",
       "245724    Male   29       RG269       Salaried           X1       21   \n",
       "\n",
       "       Credit_Product  Avg_Account_Balance Is_Active  Is_Lead  \n",
       "0                  No            13.860193        No      0.0  \n",
       "1                  No            13.274205        No      0.0  \n",
       "2                  No            14.210464       Yes      0.0  \n",
       "3                  No            13.061453        No      0.0  \n",
       "4                  No            13.695360        No      0.0  \n",
       "...               ...                  ...       ...      ...  \n",
       "245720            Yes            14.470741        No      0.0  \n",
       "245721             No            13.668114       Yes      0.0  \n",
       "245722             No            13.416016        No      0.0  \n",
       "245723             No            12.917806        No      0.0  \n",
       "245724             No            13.937087        No      0.0  \n",
       "\n",
       "[245725 rows x 10 columns]"
      ]
     },
     "metadata": {},
     "output_type": "display_data"
    },
    {
     "data": {
      "text/html": [
       "<div>\n",
       "<style scoped>\n",
       "    .dataframe tbody tr th:only-of-type {\n",
       "        vertical-align: middle;\n",
       "    }\n",
       "\n",
       "    .dataframe tbody tr th {\n",
       "        vertical-align: top;\n",
       "    }\n",
       "\n",
       "    .dataframe thead th {\n",
       "        text-align: right;\n",
       "    }\n",
       "</style>\n",
       "<table border=\"1\" class=\"dataframe\">\n",
       "  <thead>\n",
       "    <tr style=\"text-align: right;\">\n",
       "      <th></th>\n",
       "      <th>Gender</th>\n",
       "      <th>Age</th>\n",
       "      <th>Region_Code</th>\n",
       "      <th>Occupation</th>\n",
       "      <th>Channel_Code</th>\n",
       "      <th>Vintage</th>\n",
       "      <th>Credit_Product</th>\n",
       "      <th>Avg_Account_Balance</th>\n",
       "      <th>Is_Active</th>\n",
       "    </tr>\n",
       "  </thead>\n",
       "  <tbody>\n",
       "    <tr>\n",
       "      <th>245725</th>\n",
       "      <td>Male</td>\n",
       "      <td>29</td>\n",
       "      <td>RG254</td>\n",
       "      <td>Other</td>\n",
       "      <td>X1</td>\n",
       "      <td>25</td>\n",
       "      <td>Yes</td>\n",
       "      <td>13.517598</td>\n",
       "      <td>No</td>\n",
       "    </tr>\n",
       "    <tr>\n",
       "      <th>245726</th>\n",
       "      <td>Male</td>\n",
       "      <td>43</td>\n",
       "      <td>RG268</td>\n",
       "      <td>Other</td>\n",
       "      <td>X2</td>\n",
       "      <td>49</td>\n",
       "      <td>Yes</td>\n",
       "      <td>13.738129</td>\n",
       "      <td>No</td>\n",
       "    </tr>\n",
       "    <tr>\n",
       "      <th>245727</th>\n",
       "      <td>Male</td>\n",
       "      <td>31</td>\n",
       "      <td>RG270</td>\n",
       "      <td>Salaried</td>\n",
       "      <td>X1</td>\n",
       "      <td>14</td>\n",
       "      <td>No</td>\n",
       "      <td>12.282798</td>\n",
       "      <td>No</td>\n",
       "    </tr>\n",
       "    <tr>\n",
       "      <th>245728</th>\n",
       "      <td>Male</td>\n",
       "      <td>29</td>\n",
       "      <td>RG272</td>\n",
       "      <td>Other</td>\n",
       "      <td>X1</td>\n",
       "      <td>33</td>\n",
       "      <td>No</td>\n",
       "      <td>13.674028</td>\n",
       "      <td>No</td>\n",
       "    </tr>\n",
       "    <tr>\n",
       "      <th>245729</th>\n",
       "      <td>Female</td>\n",
       "      <td>29</td>\n",
       "      <td>RG270</td>\n",
       "      <td>Other</td>\n",
       "      <td>X1</td>\n",
       "      <td>19</td>\n",
       "      <td>No</td>\n",
       "      <td>13.395572</td>\n",
       "      <td>No</td>\n",
       "    </tr>\n",
       "    <tr>\n",
       "      <th>...</th>\n",
       "      <td>...</td>\n",
       "      <td>...</td>\n",
       "      <td>...</td>\n",
       "      <td>...</td>\n",
       "      <td>...</td>\n",
       "      <td>...</td>\n",
       "      <td>...</td>\n",
       "      <td>...</td>\n",
       "      <td>...</td>\n",
       "    </tr>\n",
       "    <tr>\n",
       "      <th>351032</th>\n",
       "      <td>Male</td>\n",
       "      <td>52</td>\n",
       "      <td>RG268</td>\n",
       "      <td>Salaried</td>\n",
       "      <td>X2</td>\n",
       "      <td>86</td>\n",
       "      <td>Yes</td>\n",
       "      <td>15.260677</td>\n",
       "      <td>Yes</td>\n",
       "    </tr>\n",
       "    <tr>\n",
       "      <th>351033</th>\n",
       "      <td>Male</td>\n",
       "      <td>55</td>\n",
       "      <td>RG277</td>\n",
       "      <td>Other</td>\n",
       "      <td>X2</td>\n",
       "      <td>86</td>\n",
       "      <td>Yes</td>\n",
       "      <td>13.963200</td>\n",
       "      <td>No</td>\n",
       "    </tr>\n",
       "    <tr>\n",
       "      <th>351034</th>\n",
       "      <td>Male</td>\n",
       "      <td>35</td>\n",
       "      <td>RG254</td>\n",
       "      <td>Salaried</td>\n",
       "      <td>X4</td>\n",
       "      <td>15</td>\n",
       "      <td>No</td>\n",
       "      <td>14.348329</td>\n",
       "      <td>No</td>\n",
       "    </tr>\n",
       "    <tr>\n",
       "      <th>351035</th>\n",
       "      <td>Male</td>\n",
       "      <td>53</td>\n",
       "      <td>RG254</td>\n",
       "      <td>Other</td>\n",
       "      <td>X3</td>\n",
       "      <td>93</td>\n",
       "      <td>No</td>\n",
       "      <td>13.510585</td>\n",
       "      <td>Yes</td>\n",
       "    </tr>\n",
       "    <tr>\n",
       "      <th>351036</th>\n",
       "      <td>Male</td>\n",
       "      <td>27</td>\n",
       "      <td>RG256</td>\n",
       "      <td>Salaried</td>\n",
       "      <td>X1</td>\n",
       "      <td>21</td>\n",
       "      <td>No</td>\n",
       "      <td>13.290527</td>\n",
       "      <td>No</td>\n",
       "    </tr>\n",
       "  </tbody>\n",
       "</table>\n",
       "<p>105312 rows × 9 columns</p>\n",
       "</div>"
      ],
      "text/plain": [
       "        Gender  Age Region_Code Occupation Channel_Code  Vintage  \\\n",
       "245725    Male   29       RG254      Other           X1       25   \n",
       "245726    Male   43       RG268      Other           X2       49   \n",
       "245727    Male   31       RG270   Salaried           X1       14   \n",
       "245728    Male   29       RG272      Other           X1       33   \n",
       "245729  Female   29       RG270      Other           X1       19   \n",
       "...        ...  ...         ...        ...          ...      ...   \n",
       "351032    Male   52       RG268   Salaried           X2       86   \n",
       "351033    Male   55       RG277      Other           X2       86   \n",
       "351034    Male   35       RG254   Salaried           X4       15   \n",
       "351035    Male   53       RG254      Other           X3       93   \n",
       "351036    Male   27       RG256   Salaried           X1       21   \n",
       "\n",
       "       Credit_Product  Avg_Account_Balance Is_Active  \n",
       "245725            Yes            13.517598        No  \n",
       "245726            Yes            13.738129        No  \n",
       "245727             No            12.282798        No  \n",
       "245728             No            13.674028        No  \n",
       "245729             No            13.395572        No  \n",
       "...               ...                  ...       ...  \n",
       "351032            Yes            15.260677       Yes  \n",
       "351033            Yes            13.963200        No  \n",
       "351034             No            14.348329        No  \n",
       "351035             No            13.510585       Yes  \n",
       "351036             No            13.290527        No  \n",
       "\n",
       "[105312 rows x 9 columns]"
      ]
     },
     "metadata": {},
     "output_type": "display_data"
    }
   ],
   "source": [
    "display(train)\n",
    "display(test)"
   ]
  },
  {
   "cell_type": "markdown",
   "id": "e029080d",
   "metadata": {},
   "source": [
    "### Handle Nominal Categorical Variables"
   ]
  },
  {
   "cell_type": "code",
   "execution_count": 209,
   "id": "02f650b5",
   "metadata": {},
   "outputs": [
    {
     "data": {
      "text/plain": [
       "['Gender',\n",
       " 'Region_Code',\n",
       " 'Occupation',\n",
       " 'Channel_Code',\n",
       " 'Credit_Product',\n",
       " 'Is_Active']"
      ]
     },
     "execution_count": 209,
     "metadata": {},
     "output_type": "execute_result"
    }
   ],
   "source": [
    "list_of_nominal_feature = []       # empty list of nominal features\n",
    "\n",
    "# appending all column whose data type is not numerical\n",
    "for col in train.columns:\n",
    "    if train[col].dtypes != \"int64\" and train[col].dtypes != \"float64\" and col!= \"source\":\n",
    "        list_of_nominal_feature.append(col)\n",
    "list_of_nominal_feature"
   ]
  },
  {
   "cell_type": "code",
   "execution_count": 210,
   "id": "d8c1e04f",
   "metadata": {},
   "outputs": [
    {
     "name": "stderr",
     "output_type": "stream",
     "text": [
      "<ipython-input-210-9a1881ebc9c1>:5: SettingWithCopyWarning: \n",
      "A value is trying to be set on a copy of a slice from a DataFrame.\n",
      "Try using .loc[row_indexer,col_indexer] = value instead\n",
      "\n",
      "See the caveats in the documentation: https://pandas.pydata.org/pandas-docs/stable/user_guide/indexing.html#returning-a-view-versus-a-copy\n",
      "  train[col] = label_encoder.fit_transform(train[col])\n",
      "<ipython-input-210-9a1881ebc9c1>:6: SettingWithCopyWarning: \n",
      "A value is trying to be set on a copy of a slice from a DataFrame.\n",
      "Try using .loc[row_indexer,col_indexer] = value instead\n",
      "\n",
      "See the caveats in the documentation: https://pandas.pydata.org/pandas-docs/stable/user_guide/indexing.html#returning-a-view-versus-a-copy\n",
      "  test[col] = label_encoder.fit_transform(test[col])\n"
     ]
    },
    {
     "name": "stdout",
     "output_type": "stream",
     "text": [
      "Columns in list_of_nominal_feature are converted to numerical variables\n"
     ]
    }
   ],
   "source": [
    "# converting categorical column into numerical column \n",
    "\n",
    "label_encoder = LabelEncoder()\n",
    "for col in list_of_nominal_feature:\n",
    "    train[col] = label_encoder.fit_transform(train[col])\n",
    "    test[col] = label_encoder.fit_transform(test[col])\n",
    "print(\"Columns in list_of_nominal_feature are converted to numerical variables\")    "
   ]
  },
  {
   "cell_type": "code",
   "execution_count": 211,
   "id": "46278553",
   "metadata": {},
   "outputs": [
    {
     "data": {
      "text/html": [
       "<div>\n",
       "<style scoped>\n",
       "    .dataframe tbody tr th:only-of-type {\n",
       "        vertical-align: middle;\n",
       "    }\n",
       "\n",
       "    .dataframe tbody tr th {\n",
       "        vertical-align: top;\n",
       "    }\n",
       "\n",
       "    .dataframe thead th {\n",
       "        text-align: right;\n",
       "    }\n",
       "</style>\n",
       "<table border=\"1\" class=\"dataframe\">\n",
       "  <thead>\n",
       "    <tr style=\"text-align: right;\">\n",
       "      <th></th>\n",
       "      <th>Gender</th>\n",
       "      <th>Age</th>\n",
       "      <th>Region_Code</th>\n",
       "      <th>Occupation</th>\n",
       "      <th>Channel_Code</th>\n",
       "      <th>Vintage</th>\n",
       "      <th>Credit_Product</th>\n",
       "      <th>Avg_Account_Balance</th>\n",
       "      <th>Is_Active</th>\n",
       "      <th>Is_Lead</th>\n",
       "    </tr>\n",
       "  </thead>\n",
       "  <tbody>\n",
       "    <tr>\n",
       "      <th>0</th>\n",
       "      <td>0</td>\n",
       "      <td>73</td>\n",
       "      <td>18</td>\n",
       "      <td>1</td>\n",
       "      <td>2</td>\n",
       "      <td>43</td>\n",
       "      <td>0</td>\n",
       "      <td>13.860193</td>\n",
       "      <td>0</td>\n",
       "      <td>0.0</td>\n",
       "    </tr>\n",
       "    <tr>\n",
       "      <th>1</th>\n",
       "      <td>0</td>\n",
       "      <td>30</td>\n",
       "      <td>27</td>\n",
       "      <td>2</td>\n",
       "      <td>0</td>\n",
       "      <td>32</td>\n",
       "      <td>0</td>\n",
       "      <td>13.274205</td>\n",
       "      <td>0</td>\n",
       "      <td>0.0</td>\n",
       "    </tr>\n",
       "    <tr>\n",
       "      <th>2</th>\n",
       "      <td>0</td>\n",
       "      <td>56</td>\n",
       "      <td>18</td>\n",
       "      <td>3</td>\n",
       "      <td>2</td>\n",
       "      <td>26</td>\n",
       "      <td>0</td>\n",
       "      <td>14.210464</td>\n",
       "      <td>1</td>\n",
       "      <td>0.0</td>\n",
       "    </tr>\n",
       "    <tr>\n",
       "      <th>3</th>\n",
       "      <td>1</td>\n",
       "      <td>34</td>\n",
       "      <td>20</td>\n",
       "      <td>2</td>\n",
       "      <td>0</td>\n",
       "      <td>19</td>\n",
       "      <td>0</td>\n",
       "      <td>13.061453</td>\n",
       "      <td>0</td>\n",
       "      <td>0.0</td>\n",
       "    </tr>\n",
       "    <tr>\n",
       "      <th>4</th>\n",
       "      <td>0</td>\n",
       "      <td>30</td>\n",
       "      <td>32</td>\n",
       "      <td>2</td>\n",
       "      <td>0</td>\n",
       "      <td>33</td>\n",
       "      <td>0</td>\n",
       "      <td>13.695360</td>\n",
       "      <td>0</td>\n",
       "      <td>0.0</td>\n",
       "    </tr>\n",
       "  </tbody>\n",
       "</table>\n",
       "</div>"
      ],
      "text/plain": [
       "   Gender  Age  Region_Code  Occupation  Channel_Code  Vintage  \\\n",
       "0       0   73           18           1             2       43   \n",
       "1       0   30           27           2             0       32   \n",
       "2       0   56           18           3             2       26   \n",
       "3       1   34           20           2             0       19   \n",
       "4       0   30           32           2             0       33   \n",
       "\n",
       "   Credit_Product  Avg_Account_Balance  Is_Active  Is_Lead  \n",
       "0               0            13.860193          0      0.0  \n",
       "1               0            13.274205          0      0.0  \n",
       "2               0            14.210464          1      0.0  \n",
       "3               0            13.061453          0      0.0  \n",
       "4               0            13.695360          0      0.0  "
      ]
     },
     "metadata": {},
     "output_type": "display_data"
    },
    {
     "data": {
      "text/plain": [
       "'Test data shape'"
      ]
     },
     "metadata": {},
     "output_type": "display_data"
    },
    {
     "data": {
      "text/plain": [
       "(245725, 10)"
      ]
     },
     "metadata": {},
     "output_type": "display_data"
    },
    {
     "data": {
      "text/html": [
       "<div>\n",
       "<style scoped>\n",
       "    .dataframe tbody tr th:only-of-type {\n",
       "        vertical-align: middle;\n",
       "    }\n",
       "\n",
       "    .dataframe tbody tr th {\n",
       "        vertical-align: top;\n",
       "    }\n",
       "\n",
       "    .dataframe thead th {\n",
       "        text-align: right;\n",
       "    }\n",
       "</style>\n",
       "<table border=\"1\" class=\"dataframe\">\n",
       "  <thead>\n",
       "    <tr style=\"text-align: right;\">\n",
       "      <th></th>\n",
       "      <th>Gender</th>\n",
       "      <th>Age</th>\n",
       "      <th>Region_Code</th>\n",
       "      <th>Occupation</th>\n",
       "      <th>Channel_Code</th>\n",
       "      <th>Vintage</th>\n",
       "      <th>Credit_Product</th>\n",
       "      <th>Avg_Account_Balance</th>\n",
       "      <th>Is_Active</th>\n",
       "    </tr>\n",
       "  </thead>\n",
       "  <tbody>\n",
       "    <tr>\n",
       "      <th>245725</th>\n",
       "      <td>1</td>\n",
       "      <td>29</td>\n",
       "      <td>4</td>\n",
       "      <td>1</td>\n",
       "      <td>0</td>\n",
       "      <td>25</td>\n",
       "      <td>1</td>\n",
       "      <td>13.517598</td>\n",
       "      <td>0</td>\n",
       "    </tr>\n",
       "    <tr>\n",
       "      <th>245726</th>\n",
       "      <td>1</td>\n",
       "      <td>43</td>\n",
       "      <td>18</td>\n",
       "      <td>1</td>\n",
       "      <td>1</td>\n",
       "      <td>49</td>\n",
       "      <td>1</td>\n",
       "      <td>13.738129</td>\n",
       "      <td>0</td>\n",
       "    </tr>\n",
       "    <tr>\n",
       "      <th>245727</th>\n",
       "      <td>1</td>\n",
       "      <td>31</td>\n",
       "      <td>20</td>\n",
       "      <td>2</td>\n",
       "      <td>0</td>\n",
       "      <td>14</td>\n",
       "      <td>0</td>\n",
       "      <td>12.282798</td>\n",
       "      <td>0</td>\n",
       "    </tr>\n",
       "    <tr>\n",
       "      <th>245728</th>\n",
       "      <td>1</td>\n",
       "      <td>29</td>\n",
       "      <td>22</td>\n",
       "      <td>1</td>\n",
       "      <td>0</td>\n",
       "      <td>33</td>\n",
       "      <td>0</td>\n",
       "      <td>13.674028</td>\n",
       "      <td>0</td>\n",
       "    </tr>\n",
       "    <tr>\n",
       "      <th>245729</th>\n",
       "      <td>0</td>\n",
       "      <td>29</td>\n",
       "      <td>20</td>\n",
       "      <td>1</td>\n",
       "      <td>0</td>\n",
       "      <td>19</td>\n",
       "      <td>0</td>\n",
       "      <td>13.395572</td>\n",
       "      <td>0</td>\n",
       "    </tr>\n",
       "  </tbody>\n",
       "</table>\n",
       "</div>"
      ],
      "text/plain": [
       "        Gender  Age  Region_Code  Occupation  Channel_Code  Vintage  \\\n",
       "245725       1   29            4           1             0       25   \n",
       "245726       1   43           18           1             1       49   \n",
       "245727       1   31           20           2             0       14   \n",
       "245728       1   29           22           1             0       33   \n",
       "245729       0   29           20           1             0       19   \n",
       "\n",
       "        Credit_Product  Avg_Account_Balance  Is_Active  \n",
       "245725               1            13.517598          0  \n",
       "245726               1            13.738129          0  \n",
       "245727               0            12.282798          0  \n",
       "245728               0            13.674028          0  \n",
       "245729               0            13.395572          0  "
      ]
     },
     "metadata": {},
     "output_type": "display_data"
    },
    {
     "data": {
      "text/plain": [
       "'Test data shape'"
      ]
     },
     "metadata": {},
     "output_type": "display_data"
    },
    {
     "data": {
      "text/plain": [
       "(105312, 9)"
      ]
     },
     "metadata": {},
     "output_type": "display_data"
    }
   ],
   "source": [
    "display(train.head())\n",
    "display('Test data shape',train.shape)\n",
    "display(test.head())\n",
    "display('Test data shape',test.shape)"
   ]
  },
  {
   "cell_type": "code",
   "execution_count": 212,
   "id": "f32c90db",
   "metadata": {},
   "outputs": [],
   "source": [
    "# independent variable is stored into another dataframe \n",
    "\n",
    "data_train_X = train.drop('Is_Lead',axis=1)\n",
    "data_train_y = train['Is_Lead'].astype(\"int64\")"
   ]
  },
  {
   "cell_type": "code",
   "execution_count": 213,
   "id": "f8d2cd47",
   "metadata": {},
   "outputs": [
    {
     "data": {
      "text/html": [
       "<div>\n",
       "<style scoped>\n",
       "    .dataframe tbody tr th:only-of-type {\n",
       "        vertical-align: middle;\n",
       "    }\n",
       "\n",
       "    .dataframe tbody tr th {\n",
       "        vertical-align: top;\n",
       "    }\n",
       "\n",
       "    .dataframe thead th {\n",
       "        text-align: right;\n",
       "    }\n",
       "</style>\n",
       "<table border=\"1\" class=\"dataframe\">\n",
       "  <thead>\n",
       "    <tr style=\"text-align: right;\">\n",
       "      <th></th>\n",
       "      <th>Gender</th>\n",
       "      <th>Age</th>\n",
       "      <th>Region_Code</th>\n",
       "      <th>Occupation</th>\n",
       "      <th>Channel_Code</th>\n",
       "      <th>Vintage</th>\n",
       "      <th>Credit_Product</th>\n",
       "      <th>Avg_Account_Balance</th>\n",
       "      <th>Is_Active</th>\n",
       "    </tr>\n",
       "  </thead>\n",
       "  <tbody>\n",
       "    <tr>\n",
       "      <th>0</th>\n",
       "      <td>0</td>\n",
       "      <td>73</td>\n",
       "      <td>18</td>\n",
       "      <td>1</td>\n",
       "      <td>2</td>\n",
       "      <td>43</td>\n",
       "      <td>0</td>\n",
       "      <td>13.860193</td>\n",
       "      <td>0</td>\n",
       "    </tr>\n",
       "    <tr>\n",
       "      <th>1</th>\n",
       "      <td>0</td>\n",
       "      <td>30</td>\n",
       "      <td>27</td>\n",
       "      <td>2</td>\n",
       "      <td>0</td>\n",
       "      <td>32</td>\n",
       "      <td>0</td>\n",
       "      <td>13.274205</td>\n",
       "      <td>0</td>\n",
       "    </tr>\n",
       "    <tr>\n",
       "      <th>2</th>\n",
       "      <td>0</td>\n",
       "      <td>56</td>\n",
       "      <td>18</td>\n",
       "      <td>3</td>\n",
       "      <td>2</td>\n",
       "      <td>26</td>\n",
       "      <td>0</td>\n",
       "      <td>14.210464</td>\n",
       "      <td>1</td>\n",
       "    </tr>\n",
       "    <tr>\n",
       "      <th>3</th>\n",
       "      <td>1</td>\n",
       "      <td>34</td>\n",
       "      <td>20</td>\n",
       "      <td>2</td>\n",
       "      <td>0</td>\n",
       "      <td>19</td>\n",
       "      <td>0</td>\n",
       "      <td>13.061453</td>\n",
       "      <td>0</td>\n",
       "    </tr>\n",
       "    <tr>\n",
       "      <th>4</th>\n",
       "      <td>0</td>\n",
       "      <td>30</td>\n",
       "      <td>32</td>\n",
       "      <td>2</td>\n",
       "      <td>0</td>\n",
       "      <td>33</td>\n",
       "      <td>0</td>\n",
       "      <td>13.695360</td>\n",
       "      <td>0</td>\n",
       "    </tr>\n",
       "    <tr>\n",
       "      <th>...</th>\n",
       "      <td>...</td>\n",
       "      <td>...</td>\n",
       "      <td>...</td>\n",
       "      <td>...</td>\n",
       "      <td>...</td>\n",
       "      <td>...</td>\n",
       "      <td>...</td>\n",
       "      <td>...</td>\n",
       "      <td>...</td>\n",
       "    </tr>\n",
       "    <tr>\n",
       "      <th>245720</th>\n",
       "      <td>1</td>\n",
       "      <td>51</td>\n",
       "      <td>34</td>\n",
       "      <td>3</td>\n",
       "      <td>2</td>\n",
       "      <td>109</td>\n",
       "      <td>1</td>\n",
       "      <td>14.470741</td>\n",
       "      <td>0</td>\n",
       "    </tr>\n",
       "    <tr>\n",
       "      <th>245721</th>\n",
       "      <td>1</td>\n",
       "      <td>27</td>\n",
       "      <td>18</td>\n",
       "      <td>2</td>\n",
       "      <td>0</td>\n",
       "      <td>15</td>\n",
       "      <td>0</td>\n",
       "      <td>13.668114</td>\n",
       "      <td>1</td>\n",
       "    </tr>\n",
       "    <tr>\n",
       "      <th>245722</th>\n",
       "      <td>0</td>\n",
       "      <td>26</td>\n",
       "      <td>31</td>\n",
       "      <td>2</td>\n",
       "      <td>0</td>\n",
       "      <td>13</td>\n",
       "      <td>0</td>\n",
       "      <td>13.416016</td>\n",
       "      <td>0</td>\n",
       "    </tr>\n",
       "    <tr>\n",
       "      <th>245723</th>\n",
       "      <td>0</td>\n",
       "      <td>28</td>\n",
       "      <td>23</td>\n",
       "      <td>2</td>\n",
       "      <td>0</td>\n",
       "      <td>31</td>\n",
       "      <td>0</td>\n",
       "      <td>12.917806</td>\n",
       "      <td>0</td>\n",
       "    </tr>\n",
       "    <tr>\n",
       "      <th>245724</th>\n",
       "      <td>1</td>\n",
       "      <td>29</td>\n",
       "      <td>19</td>\n",
       "      <td>2</td>\n",
       "      <td>0</td>\n",
       "      <td>21</td>\n",
       "      <td>0</td>\n",
       "      <td>13.937087</td>\n",
       "      <td>0</td>\n",
       "    </tr>\n",
       "  </tbody>\n",
       "</table>\n",
       "<p>245725 rows × 9 columns</p>\n",
       "</div>"
      ],
      "text/plain": [
       "        Gender  Age  Region_Code  Occupation  Channel_Code  Vintage  \\\n",
       "0            0   73           18           1             2       43   \n",
       "1            0   30           27           2             0       32   \n",
       "2            0   56           18           3             2       26   \n",
       "3            1   34           20           2             0       19   \n",
       "4            0   30           32           2             0       33   \n",
       "...        ...  ...          ...         ...           ...      ...   \n",
       "245720       1   51           34           3             2      109   \n",
       "245721       1   27           18           2             0       15   \n",
       "245722       0   26           31           2             0       13   \n",
       "245723       0   28           23           2             0       31   \n",
       "245724       1   29           19           2             0       21   \n",
       "\n",
       "        Credit_Product  Avg_Account_Balance  Is_Active  \n",
       "0                    0            13.860193          0  \n",
       "1                    0            13.274205          0  \n",
       "2                    0            14.210464          1  \n",
       "3                    0            13.061453          0  \n",
       "4                    0            13.695360          0  \n",
       "...                ...                  ...        ...  \n",
       "245720               1            14.470741          0  \n",
       "245721               0            13.668114          1  \n",
       "245722               0            13.416016          0  \n",
       "245723               0            12.917806          0  \n",
       "245724               0            13.937087          0  \n",
       "\n",
       "[245725 rows x 9 columns]"
      ]
     },
     "metadata": {},
     "output_type": "display_data"
    },
    {
     "data": {
      "text/plain": [
       "0         0\n",
       "1         0\n",
       "2         0\n",
       "3         0\n",
       "4         0\n",
       "         ..\n",
       "245720    0\n",
       "245721    0\n",
       "245722    0\n",
       "245723    0\n",
       "245724    0\n",
       "Name: Is_Lead, Length: 245725, dtype: int64"
      ]
     },
     "metadata": {},
     "output_type": "display_data"
    }
   ],
   "source": [
    "display(data_train_X)\n",
    "display(data_train_y)"
   ]
  },
  {
   "cell_type": "markdown",
   "id": "2cff3420",
   "metadata": {},
   "source": [
    "### Conclusion \n",
    "\n",
    "> There is no duplicate in whole data set\n",
    "\n",
    "> Replace null value in Credit_Product with Yes\n",
    "\n",
    "> Dataset transform it into original shape with same data\n",
    "\n",
    "> ID and source column are dropped as they are not going to add any value to model\n",
    "\n",
    "> Nominal Categorical variable converted into numerical dataset"
   ]
  },
  {
   "cell_type": "markdown",
   "id": "fc95bdf1",
   "metadata": {},
   "source": [
    "## Feature Selection "
   ]
  },
  {
   "cell_type": "code",
   "execution_count": 214,
   "id": "866425b0",
   "metadata": {},
   "outputs": [
    {
     "name": "stdout",
     "output_type": "stream",
     "text": [
      "Shape of train data before filtering (245725, 9)\n",
      "Shape of train data before filtering (245725, 9)\n"
     ]
    }
   ],
   "source": [
    "# Thresold = 0.01 means 99% data in that column is same\n",
    "\n",
    "print(\"Shape of train data before filtering\",data_train_X.shape)\n",
    "var_filter = VarianceThreshold(threshold = 0.01)  \n",
    "train = var_filter.fit_transform(data_train_X)\n",
    "#to get the count of features that are not constant\n",
    "data_train_X = data_train_X[data_train_X.columns[var_filter.get_support(indices=True)]]\n",
    "print(\"Shape of train data before filtering\",data_train_X.shape)"
   ]
  },
  {
   "cell_type": "code",
   "execution_count": 215,
   "id": "84638151",
   "metadata": {},
   "outputs": [
    {
     "data": {
      "text/html": [
       "<div>\n",
       "<style scoped>\n",
       "    .dataframe tbody tr th:only-of-type {\n",
       "        vertical-align: middle;\n",
       "    }\n",
       "\n",
       "    .dataframe tbody tr th {\n",
       "        vertical-align: top;\n",
       "    }\n",
       "\n",
       "    .dataframe thead th {\n",
       "        text-align: right;\n",
       "    }\n",
       "</style>\n",
       "<table border=\"1\" class=\"dataframe\">\n",
       "  <thead>\n",
       "    <tr style=\"text-align: right;\">\n",
       "      <th></th>\n",
       "      <th>Gender</th>\n",
       "      <th>Age</th>\n",
       "      <th>Region_Code</th>\n",
       "      <th>Occupation</th>\n",
       "      <th>Channel_Code</th>\n",
       "      <th>Vintage</th>\n",
       "      <th>Credit_Product</th>\n",
       "      <th>Avg_Account_Balance</th>\n",
       "      <th>Is_Active</th>\n",
       "    </tr>\n",
       "  </thead>\n",
       "  <tbody>\n",
       "    <tr>\n",
       "      <th>Gender</th>\n",
       "      <td>1.000000</td>\n",
       "      <td>0.152076</td>\n",
       "      <td>0.004813</td>\n",
       "      <td>0.031536</td>\n",
       "      <td>0.150586</td>\n",
       "      <td>0.146380</td>\n",
       "      <td>0.077313</td>\n",
       "      <td>0.031780</td>\n",
       "      <td>0.064207</td>\n",
       "    </tr>\n",
       "    <tr>\n",
       "      <th>Age</th>\n",
       "      <td>0.152076</td>\n",
       "      <td>1.000000</td>\n",
       "      <td>0.117914</td>\n",
       "      <td>-0.127753</td>\n",
       "      <td>0.605543</td>\n",
       "      <td>0.631242</td>\n",
       "      <td>0.246636</td>\n",
       "      <td>0.176838</td>\n",
       "      <td>0.218770</td>\n",
       "    </tr>\n",
       "    <tr>\n",
       "      <th>Region_Code</th>\n",
       "      <td>0.004813</td>\n",
       "      <td>0.117914</td>\n",
       "      <td>1.000000</td>\n",
       "      <td>0.012186</td>\n",
       "      <td>0.103018</td>\n",
       "      <td>0.118810</td>\n",
       "      <td>0.078164</td>\n",
       "      <td>0.097152</td>\n",
       "      <td>0.059576</td>\n",
       "    </tr>\n",
       "    <tr>\n",
       "      <th>Occupation</th>\n",
       "      <td>0.031536</td>\n",
       "      <td>-0.127753</td>\n",
       "      <td>0.012186</td>\n",
       "      <td>1.000000</td>\n",
       "      <td>0.123937</td>\n",
       "      <td>0.027156</td>\n",
       "      <td>0.017734</td>\n",
       "      <td>-0.037480</td>\n",
       "      <td>0.077208</td>\n",
       "    </tr>\n",
       "    <tr>\n",
       "      <th>Channel_Code</th>\n",
       "      <td>0.150586</td>\n",
       "      <td>0.605543</td>\n",
       "      <td>0.103018</td>\n",
       "      <td>0.123937</td>\n",
       "      <td>1.000000</td>\n",
       "      <td>0.537852</td>\n",
       "      <td>0.304308</td>\n",
       "      <td>0.127236</td>\n",
       "      <td>0.249655</td>\n",
       "    </tr>\n",
       "    <tr>\n",
       "      <th>Vintage</th>\n",
       "      <td>0.146380</td>\n",
       "      <td>0.631242</td>\n",
       "      <td>0.118810</td>\n",
       "      <td>0.027156</td>\n",
       "      <td>0.537852</td>\n",
       "      <td>1.000000</td>\n",
       "      <td>0.235752</td>\n",
       "      <td>0.201592</td>\n",
       "      <td>0.209356</td>\n",
       "    </tr>\n",
       "    <tr>\n",
       "      <th>Credit_Product</th>\n",
       "      <td>0.077313</td>\n",
       "      <td>0.246636</td>\n",
       "      <td>0.078164</td>\n",
       "      <td>0.017734</td>\n",
       "      <td>0.304308</td>\n",
       "      <td>0.235752</td>\n",
       "      <td>1.000000</td>\n",
       "      <td>0.097256</td>\n",
       "      <td>-0.059762</td>\n",
       "    </tr>\n",
       "    <tr>\n",
       "      <th>Avg_Account_Balance</th>\n",
       "      <td>0.031780</td>\n",
       "      <td>0.176838</td>\n",
       "      <td>0.097152</td>\n",
       "      <td>-0.037480</td>\n",
       "      <td>0.127236</td>\n",
       "      <td>0.201592</td>\n",
       "      <td>0.097256</td>\n",
       "      <td>1.000000</td>\n",
       "      <td>0.088535</td>\n",
       "    </tr>\n",
       "    <tr>\n",
       "      <th>Is_Active</th>\n",
       "      <td>0.064207</td>\n",
       "      <td>0.218770</td>\n",
       "      <td>0.059576</td>\n",
       "      <td>0.077208</td>\n",
       "      <td>0.249655</td>\n",
       "      <td>0.209356</td>\n",
       "      <td>-0.059762</td>\n",
       "      <td>0.088535</td>\n",
       "      <td>1.000000</td>\n",
       "    </tr>\n",
       "  </tbody>\n",
       "</table>\n",
       "</div>"
      ],
      "text/plain": [
       "                       Gender       Age  Region_Code  Occupation  \\\n",
       "Gender               1.000000  0.152076     0.004813    0.031536   \n",
       "Age                  0.152076  1.000000     0.117914   -0.127753   \n",
       "Region_Code          0.004813  0.117914     1.000000    0.012186   \n",
       "Occupation           0.031536 -0.127753     0.012186    1.000000   \n",
       "Channel_Code         0.150586  0.605543     0.103018    0.123937   \n",
       "Vintage              0.146380  0.631242     0.118810    0.027156   \n",
       "Credit_Product       0.077313  0.246636     0.078164    0.017734   \n",
       "Avg_Account_Balance  0.031780  0.176838     0.097152   -0.037480   \n",
       "Is_Active            0.064207  0.218770     0.059576    0.077208   \n",
       "\n",
       "                     Channel_Code   Vintage  Credit_Product  \\\n",
       "Gender                   0.150586  0.146380        0.077313   \n",
       "Age                      0.605543  0.631242        0.246636   \n",
       "Region_Code              0.103018  0.118810        0.078164   \n",
       "Occupation               0.123937  0.027156        0.017734   \n",
       "Channel_Code             1.000000  0.537852        0.304308   \n",
       "Vintage                  0.537852  1.000000        0.235752   \n",
       "Credit_Product           0.304308  0.235752        1.000000   \n",
       "Avg_Account_Balance      0.127236  0.201592        0.097256   \n",
       "Is_Active                0.249655  0.209356       -0.059762   \n",
       "\n",
       "                     Avg_Account_Balance  Is_Active  \n",
       "Gender                          0.031780   0.064207  \n",
       "Age                             0.176838   0.218770  \n",
       "Region_Code                     0.097152   0.059576  \n",
       "Occupation                     -0.037480   0.077208  \n",
       "Channel_Code                    0.127236   0.249655  \n",
       "Vintage                         0.201592   0.209356  \n",
       "Credit_Product                  0.097256  -0.059762  \n",
       "Avg_Account_Balance             1.000000   0.088535  \n",
       "Is_Active                       0.088535   1.000000  "
      ]
     },
     "execution_count": 215,
     "metadata": {},
     "output_type": "execute_result"
    }
   ],
   "source": [
    "correlated_features = set()\n",
    "correlation_matrix = data_train_X.corr()\n",
    "correlation_matrix"
   ]
  },
  {
   "cell_type": "code",
   "execution_count": 216,
   "id": "03f1e53a",
   "metadata": {},
   "outputs": [
    {
     "data": {
      "image/png": "[encoded data removed]",
      "text/plain": [
       "<Figure size 1152x432 with 2 Axes>"
      ]
     },
     "metadata": {
      "needs_background": "light"
     },
     "output_type": "display_data"
    }
   ],
   "source": [
    "# Increase the size of the heatmap.\n",
    "plt.figure(figsize=(16, 6))\n",
    "# Store heatmap object in a variable to easily access it when you want to include more features (such as title).\n",
    "# Set the range of values to be displayed on the colormap from -1 to 1, and set the annotation to True to display the correlation values on the heatmap.\n",
    "heatmap = sns.heatmap(data_train_X.corr(), vmin=-1, vmax=1, annot=True)\n",
    "# Give a title to the heatmap. Pad defines the distance of the title from the top of the heatmap.\n",
    "heatmap.set_title('Correlation Heatmap', fontdict={'fontsize':12}, pad=12);"
   ]
  },
  {
   "cell_type": "markdown",
   "id": "1671aea6",
   "metadata": {},
   "source": [
    "### Conclusion \n",
    "\n",
    "> We have already less number of features so dropping any feature won't be good idea\n",
    "\n",
    "> By thersold at 0.1 , no column filter out \n",
    "\n",
    "> By correlation matrix , we got the highest covariance as 0.63 but this is not enough to drop any column\n",
    "\n",
    "> This implies that all feature are important for modelling"
   ]
  },
  {
   "cell_type": "markdown",
   "id": "d69f0242",
   "metadata": {},
   "source": [
    "## Modelling"
   ]
  },
  {
   "cell_type": "code",
   "execution_count": 217,
   "id": "5d12f414",
   "metadata": {
    "code_folding": []
   },
   "outputs": [],
   "source": [
    "# funtion to run different model\n",
    "\n",
    "def cross_val(X, y, model, params, folds=9):\n",
    "\n",
    "    skf = StratifiedKFold(n_splits=folds, shuffle=True, random_state=21)\n",
    "    for fold, (train_idx, test_idx) in enumerate(skf.split(X, y)):\n",
    "        print(f\"Fold: {fold}\")\n",
    "        x_train, y_train = X.iloc[train_idx], y.iloc[train_idx]\n",
    "        x_test, y_test = X.iloc[test_idx], y.iloc[test_idx]\n",
    "\n",
    "        alg = model(**params)\n",
    "        alg.fit(x_train, y_train,\n",
    "                eval_set=[(x_test, y_test)],\n",
    "                early_stopping_rounds=100,\n",
    "                verbose=400)\n",
    "\n",
    "        pred = alg.predict_proba(x_test)[:, 1]\n",
    "        roc_score = roc_auc_score(y_test, pred)\n",
    "        print(f\"roc_auc_score: {roc_score}\")\n",
    "        print(\"-\"*50)\n",
    "    return alg"
   ]
  },
  {
   "cell_type": "code",
   "execution_count": 218,
   "id": "3ea24a64",
   "metadata": {},
   "outputs": [],
   "source": [
    "lgb_params= {'learning_rate': 0.045, \n",
    "             'n_estimators': 20000, \n",
    "             'max_bin': 94,\n",
    "             'num_leaves': 10, \n",
    "             'max_depth': 27, \n",
    "             'reg_alpha': 8.457, \n",
    "             'reg_lambda': 6.853, \n",
    "             'subsample': 0.749}"
   ]
  },
  {
   "cell_type": "code",
   "execution_count": 219,
   "id": "240ef628",
   "metadata": {},
   "outputs": [
    {
     "name": "stdout",
     "output_type": "stream",
     "text": [
      "Fold: 0\n",
      "Training until validation scores don't improve for 100 rounds\n",
      "[400]\tvalid_0's binary_logloss: 0.378501\n",
      "[800]\tvalid_0's binary_logloss: 0.37827\n",
      "Early stopping, best iteration is:\n",
      "[802]\tvalid_0's binary_logloss: 0.378264\n",
      "roc_auc_score: 0.8539183817995556\n",
      "--------------------------------------------------\n",
      "Fold: 1\n",
      "Training until validation scores don't improve for 100 rounds\n",
      "[400]\tvalid_0's binary_logloss: 0.382606\n",
      "Early stopping, best iteration is:\n",
      "[524]\tvalid_0's binary_logloss: 0.382519\n",
      "roc_auc_score: 0.8500343931608946\n",
      "--------------------------------------------------\n",
      "Fold: 2\n",
      "Training until validation scores don't improve for 100 rounds\n",
      "[400]\tvalid_0's binary_logloss: 0.384762\n",
      "Early stopping, best iteration is:\n",
      "[607]\tvalid_0's binary_logloss: 0.38465\n",
      "roc_auc_score: 0.847290061663613\n",
      "--------------------------------------------------\n",
      "Fold: 3\n",
      "Training until validation scores don't improve for 100 rounds\n",
      "[400]\tvalid_0's binary_logloss: 0.383285\n",
      "Early stopping, best iteration is:\n",
      "[517]\tvalid_0's binary_logloss: 0.383167\n",
      "roc_auc_score: 0.8493604885557047\n",
      "--------------------------------------------------\n",
      "Fold: 4\n",
      "Training until validation scores don't improve for 100 rounds\n",
      "[400]\tvalid_0's binary_logloss: 0.380917\n",
      "Early stopping, best iteration is:\n",
      "[494]\tvalid_0's binary_logloss: 0.380823\n",
      "roc_auc_score: 0.8517737363514903\n",
      "--------------------------------------------------\n",
      "Fold: 5\n",
      "Training until validation scores don't improve for 100 rounds\n",
      "[400]\tvalid_0's binary_logloss: 0.382336\n",
      "Early stopping, best iteration is:\n",
      "[663]\tvalid_0's binary_logloss: 0.382243\n",
      "roc_auc_score: 0.8505607850758279\n",
      "--------------------------------------------------\n",
      "Fold: 6\n",
      "Training until validation scores don't improve for 100 rounds\n",
      "[400]\tvalid_0's binary_logloss: 0.378841\n",
      "Early stopping, best iteration is:\n",
      "[685]\tvalid_0's binary_logloss: 0.378685\n",
      "roc_auc_score: 0.8541274022666261\n",
      "--------------------------------------------------\n",
      "Fold: 7\n",
      "Training until validation scores don't improve for 100 rounds\n",
      "[400]\tvalid_0's binary_logloss: 0.38058\n",
      "[800]\tvalid_0's binary_logloss: 0.380368\n",
      "Early stopping, best iteration is:\n",
      "[832]\tvalid_0's binary_logloss: 0.38033\n",
      "roc_auc_score: 0.8533749327570593\n",
      "--------------------------------------------------\n",
      "Fold: 8\n",
      "Training until validation scores don't improve for 100 rounds\n",
      "[400]\tvalid_0's binary_logloss: 0.382945\n",
      "[800]\tvalid_0's binary_logloss: 0.382679\n",
      "Early stopping, best iteration is:\n",
      "[974]\tvalid_0's binary_logloss: 0.382578\n",
      "roc_auc_score: 0.8489208609089447\n",
      "--------------------------------------------------\n"
     ]
    }
   ],
   "source": [
    "lgb_model = cross_val(data_train_X, data_train_y, LGBMClassifier, lgb_params)"
   ]
  },
  {
   "cell_type": "code",
   "execution_count": 220,
   "id": "b01215b1",
   "metadata": {},
   "outputs": [
    {
     "data": {
      "text/plain": [
       "array([0.06504483, 0.36827954, 0.06163232, ..., 0.07453434, 0.22662624,\n",
       "       0.05345713])"
      ]
     },
     "execution_count": 220,
     "metadata": {},
     "output_type": "execute_result"
    }
   ],
   "source": [
    "pred_test_lgb = lgb_model.predict_proba(test)[:,1]\n",
    "pred_test_lgb"
   ]
  },
  {
   "cell_type": "markdown",
   "id": "8e7ed2e4",
   "metadata": {},
   "source": [
    "## Predict Model"
   ]
  },
  {
   "cell_type": "code",
   "execution_count": 221,
   "id": "ad780714",
   "metadata": {},
   "outputs": [],
   "source": [
    "pred_test_lgb = lgb_model.predict_proba(test)[:,1]"
   ]
  },
  {
   "cell_type": "code",
   "execution_count": 222,
   "id": "f6b4a524",
   "metadata": {},
   "outputs": [],
   "source": [
    "sample_submission = pd.read_csv('sample_submission.csv')"
   ]
  },
  {
   "cell_type": "code",
   "execution_count": 223,
   "id": "1f07a29a",
   "metadata": {},
   "outputs": [
    {
     "name": "stdout",
     "output_type": "stream",
     "text": [
      "Submission file is ready\n"
     ]
    }
   ],
   "source": [
    "sample_submission['Is_Lead'] = pred_test_lgb\n",
    "sample_submission.to_csv('pred_test_lgb.csv',index=False)\n",
    "print(\"Submission file is ready\")"
   ]
  }
 ],
 "metadata": {
  "kernelspec": {
   "display_name": "Python 3",
   "language": "python",
   "name": "python3"
  },
  "language_info": {
   "codemirror_mode": {
    "name": "ipython",
    "version": 3
   },
   "file_extension": ".py",
   "mimetype": "text/x-python",
   "name": "python",
   "nbconvert_exporter": "python",
   "pygments_lexer": "ipython3",
   "version": "3.8.1"
  },
  "toc": {
   "base_numbering": 1,
   "nav_menu": {},
   "number_sections": true,
   "sideBar": false,
   "skip_h1_title": true,
   "title_cell": "Table of Contents",
   "title_sidebar": "Contents",
   "toc_cell": true,
   "toc_position": {
    "height": "calc(100% - 180px)",
    "left": "10px",
    "top": "150px",
    "width": "347.847px"
   },
   "toc_section_display": true,
   "toc_window_display": true
  },
  "varInspector": {
   "cols": {
    "lenName": 16,
    "lenType": 16,
    "lenVar": 40
   },
   "kernels_config": {
    "python": {
     "delete_cmd_postfix": "",
     "delete_cmd_prefix": "del ",
     "library": "var_list.py",
     "varRefreshCmd": "print(var_dic_list())"
    },
    "r": {
     "delete_cmd_postfix": ") ",
     "delete_cmd_prefix": "rm(",
     "library": "var_list.r",
     "varRefreshCmd": "cat(var_dic_list()) "
    }
   },
   "position": {
    "height": "144.716px",
    "left": "1009.42px",
    "right": "20px",
    "top": "70.9744px",
    "width": "350px"
   },
   "types_to_exclude": [
    "module",
    "function",
    "builtin_function_or_method",
    "instance",
    "_Feature"
   ],
   "window_display": false
  }
 },
 "nbformat": 4,
 "nbformat_minor": 5
}
